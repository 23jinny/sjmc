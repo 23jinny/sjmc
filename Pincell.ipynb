{
 "cells": [
  {
   "cell_type": "markdown",
   "id": "b38d9aa8-978c-412d-a828-3e3a134b6b51",
   "metadata": {
    "tags": []
   },
   "source": [
    "# Modeling a Pincell\n",
    "In this module, we'll demonstrate the basic features of the Python API for constructing input files and running OpenMC. In it, we will show how to create a basic reflective pincell model that is equivalent to modeling an infinite array of fuel pins in a pressurized water reactor (PWR). We highly recommend having a copy of the [Python API reference documentation](https://docs.openmc.org/en/stable/pythonapi/index.html) open in another browser tab that you can refer to."
   ]
  },
  {
   "cell_type": "markdown",
   "id": "d25437f6-a52e-47bb-9ee2-81ee9d61892d",
   "metadata": {
    "tags": []
   },
   "source": [
    "For this example, we'll create a simple pin-cell that is composed of:\n",
    "- UO<sub>2</sub> at 10 g/cm<sup>3</sup>\n",
    "  - U235 at 0.02115 a/o\n",
    "  - U238 at 0.86032 a/o\n",
    "  - O16 at 0.11852 a/o\n",
    "- Zirconium clad at 6.6 g/cm<sup>3</sup>\n",
    "  - Elemental Zr\n",
    "- Water moderator at 1.0 g/cm<sup>3</sup>\n",
    "  - H1 at 2.0 a/o\n",
    "  - O16 at 1.0 a/o\n",
    "\n",
    "The dimensions of our fuel pin will be as follows:\n",
    "- Fuel outer radius = 0.39 cm\n",
    "- Clad inner radius = 0.40 cm\n",
    "- Clad outer radius = 0.46 cm\n",
    "- Fuel pin pitch = 1.26 cm"
   ]
  },
  {
   "cell_type": "code",
   "execution_count": 1,
   "id": "6c1e32c0-ca56-4eb9-8763-b9f08695a268",
   "metadata": {},
   "outputs": [
    {
     "name": "stdout",
     "output_type": "stream",
     "text": [
      "/usr/local/Cellar/jupyterlab/3.6.2/libexec/bin/python3.11\n"
     ]
    }
   ],
   "source": []
  },
  {
   "cell_type": "code",
   "execution_count": 4,
   "id": "140b6b6a-b2ef-4968-bb9a-a22fdfbf5a71",
   "metadata": {},
   "outputs": [],
   "source": [
    "import openmc"
   ]
  },
  {
   "cell_type": "code",
   "execution_count": null,
   "id": "a8c1399a",
   "metadata": {},
   "outputs": [],
   "source": []
  }
 ],
 "metadata": {
  "kernelspec": {
   "display_name": "Python 3 (ipykernel)",
   "language": "python",
   "name": "python3"
  },
  "language_info": {
   "codemirror_mode": {
    "name": "ipython",
    "version": 3
   },
   "file_extension": ".py",
   "mimetype": "text/x-python",
   "name": "python",
   "nbconvert_exporter": "python",
   "pygments_lexer": "ipython3",
   "version": "3.11.2"
  }
 },
 "nbformat": 4,
 "nbformat_minor": 5
}
