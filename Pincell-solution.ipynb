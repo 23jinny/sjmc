{
 "cells": [
  {
   "cell_type": "markdown",
   "metadata": {},
   "source": [
    "# Modeling a Pincell\n",
    "In this module, we'll demonstrate the basic features of the Python API for constructing input files and running OpenMC. In it, we will show how to create a basic reflective pincell model that is equivalent to modeling an infinite array of fuel pins in a pressurized water reactor. We highly recommend having a copy of the [Python API reference documentation](https://docs.openmc.org/en/stable/pythonapi/index.html) open in another browser tab that you can refer to.\n",
    "\n",
    "<img src=\"pincell.png\" alt=\"drawing\" width=\"250\"/>"
   ]
  },
  {
   "cell_type": "markdown",
   "metadata": {},
   "source": [
    "For this example, we'll create a simple pincell that is composed of:\n",
    "- UO<sub>2</sub> with 3.5 weight% enriched in U-235 at 11 g/cm<sup>3</sup>\n",
    "- zirconium clad at 6.5 g/cm<sup>3</sup>\n",
    "- H<sub>2</sub>O moderator at 1.0 g/cm<sup>3</sup>\n",
    "\n",
    "The dimensions of our fuel pin will be as follows:\n",
    "- Fuel outer radius = 0.46955 cm\n",
    "- Clad inner radius = 0.47910 cm\n",
    "- Clad outer radius = 0.54640 cm\n",
    "- Fuel pin pitch = 1.44270 cm"
   ]
  },
  {
   "cell_type": "code",
   "execution_count": 3,
   "metadata": {},
   "outputs": [],
   "source": [
    "import openmc"
   ]
  },
  {
   "cell_type": "markdown",
   "metadata": {},
   "source": [
    "## Basics of Jupyter Notebook\n",
    "\n",
    "You are working within a Jupyter notebook. Some common commands which will be useful:\n",
    "- To execute a cell: `Shift+Enter`\n",
    "- To insert a cell above or below: `Esc+a`, `Esc+b`"
   ]
  },
  {
   "cell_type": "markdown",
   "metadata": {},
   "source": [
    "## Naming Conventions\n",
    "\n",
    "Before we start working with OpenMC's Python API, it's helpful to understand the naming convention of objects so that you can conceptualize what is a function, what is a class, etc. OpenMC's Python interface follows the same naming convention that is adopted by many/most Python projects:\n",
    "\n",
    "- Module names are `lowercase`\n",
    "- Classes are `CamelCase`\n",
    "- Functions and class attributes/variables are `lowercase_with_underscores`\n",
    "\n",
    "To give a few specific examples:\n",
    "\n",
    "- `openmc.deplete` is the depletion _module_\n",
    "- `openmc.run` is a _function_\n",
    "- `openmc.Material` is a _class_\n",
    "- `openmc.StatePoint` is a _class_"
   ]
  },
  {
   "cell_type": "markdown",
   "metadata": {},
   "source": [
    "## Setting Attributes\n",
    "\n",
    "When building OpenMC models, we will work with many different classes. Each class typically has _attributes_, a variable belonging to the class. When creating a class, you can often set those attributes directly when you instantiate the object, like this:"
   ]
  },
  {
   "cell_type": "code",
   "execution_count": 4,
   "metadata": {},
   "outputs": [],
   "source": [
    "my_cell = openmc.Cell(name=\"box\")"
   ]
  },
  {
   "cell_type": "markdown",
   "metadata": {},
   "source": [
    "Or, you can assign values to attributes after you have already created the object. For example, the following is equivalent to the above:"
   ]
  },
  {
   "cell_type": "code",
   "execution_count": 5,
   "metadata": {},
   "outputs": [],
   "source": [
    "my_other_cell = openmc.Cell()\n",
    "my_other_cell.name = \"box2\""
   ]
  },
  {
   "cell_type": "markdown",
   "metadata": {},
   "source": [
    "You can generally also mix-and-match, setting some attributes when you instantiate the object, and others at a later point."
   ]
  },
  {
   "cell_type": "code",
   "execution_count": 6,
   "metadata": {},
   "outputs": [],
   "source": [
    "new_cell = openmc.Cell(name=\"box3\")\n",
    "new_cell.temperature = 500"
   ]
  },
  {
   "cell_type": "markdown",
   "metadata": {},
   "source": [
    "\n",
    "## How to Get Help/Learn More\n",
    "\n",
    "When building OpenMC models, we recommend having a copy of the Python API documentation (linked earlier) open. You can also query information about classes and methods directly from Jupyter. For example, we can use `help` to get documentation on all of the valid attributes for functions and classes."
   ]
  },
  {
   "cell_type": "code",
   "execution_count": null,
   "metadata": {},
   "outputs": [
    {
     "name": "stdout",
     "output_type": "stream",
     "text": [
      "Help on class Cell in module openmc.cell:\n",
      "\n",
      "class Cell(openmc.mixin.IDManagerMixin)\n",
      " |  Cell(cell_id=None, name='', fill=None, region=None)\n",
      " |  \n",
      " |  A region of space defined as the intersection of half-space created by\n",
      " |  quadric surfaces.\n",
      " |  \n",
      " |  Parameters\n",
      " |  ----------\n",
      " |  cell_id : int, optional\n",
      " |      Unique identifier for the cell. If not specified, an identifier will\n",
      " |      automatically be assigned.\n",
      " |  name : str, optional\n",
      " |      Name of the cell. If not specified, the name is the empty string.\n",
      " |  fill : openmc.Material or openmc.UniverseBase or openmc.Lattice or None or iterable of openmc.Material, optional\n",
      " |      Indicates what the region of space is filled with\n",
      " |  region : openmc.Region, optional\n",
      " |      Region of space that is assigned to the cell.\n",
      " |  \n",
      " |  Attributes\n",
      " |  ----------\n",
      " |  id : int\n",
      " |      Unique identifier for the cell\n",
      " |  name : str\n",
      " |      Name of the cell\n",
      " |  fill : openmc.Material or openmc.UniverseBase or openmc.Lattice or None or iterable of openmc.Material\n",
      " |      Indicates what the region of space is filled with. If None, the cell is\n",
      " |      treated as a void. An iterable of materials is used to fill repeated\n",
      " |      instances of a cell with different materials.\n",
      " |  fill_type : {'material', 'universe', 'lattice', 'distribmat', 'void'}\n",
      " |      Indicates what the cell is filled with.\n",
      " |  region : openmc.Region or None\n",
      " |      Region of space that is assigned to the cell.\n",
      " |  rotation : Iterable of float\n",
      " |      If the cell is filled with a universe, this array specifies the angles\n",
      " |      in degrees about the x, y, and z axes that the filled universe should be\n",
      " |      rotated. The rotation applied is an intrinsic rotation with specified\n",
      " |      Tait-Bryan angles. That is to say, if the angles are :math:`(\\phi,\n",
      " |      \\theta, \\psi)`, then the rotation matrix applied is :math:`R_z(\\psi)\n",
      " |      R_y(\\theta) R_x(\\phi)` or\n",
      " |  \n",
      " |      .. math::\n",
      " |  \n",
      " |         \\left [ \\begin{array}{ccc} \\cos\\theta \\cos\\psi & -\\cos\\phi \\sin\\psi\n",
      " |         + \\sin\\phi \\sin\\theta \\cos\\psi & \\sin\\phi \\sin\\psi + \\cos\\phi\n",
      " |         \\sin\\theta \\cos\\psi \\\\ \\cos\\theta \\sin\\psi & \\cos\\phi \\cos\\psi +\n",
      " |         \\sin\\phi \\sin\\theta \\sin\\psi & -\\sin\\phi \\cos\\psi + \\cos\\phi\n",
      " |         \\sin\\theta \\sin\\psi \\\\ -\\sin\\theta & \\sin\\phi \\cos\\theta & \\cos\\phi\n",
      " |         \\cos\\theta \\end{array} \\right ]\n",
      " |  \n",
      " |      A rotation matrix can also be specified directly by setting this\n",
      " |      attribute to a nested list (or 2D numpy array) that specifies each\n",
      " |      element of the matrix.\n",
      " |  rotation_matrix : numpy.ndarray\n",
      " |      The rotation matrix defined by the angles specified in the\n",
      " |      :attr:`Cell.rotation` property.\n",
      " |  temperature : float or iterable of float\n",
      " |      Temperature of the cell in Kelvin.  Multiple temperatures can be given\n",
      " |      to give each distributed cell instance a unique temperature.\n",
      " |  translation : Iterable of float\n",
      " |      If the cell is filled with a universe, this array specifies a vector\n",
      " |      that is used to translate (shift) the universe.\n",
      " |  paths : list of str\n",
      " |      The paths traversed through the CSG tree to reach each cell\n",
      " |      instance. This property is initialized by calling the\n",
      " |      :meth:`Geometry.determine_paths` method.\n",
      " |  num_instances : int\n",
      " |      The number of instances of this cell throughout the geometry.\n",
      " |  volume : float\n",
      " |      Volume of the cell in cm^3. This can either be set manually or\n",
      " |      calculated in a stochastic volume calculation and added via the\n",
      " |      :meth:`Cell.add_volume_information` method. For 'distribmat' cells\n",
      " |      it is the total volume of all instances.\n",
      " |  atoms : dict\n",
      " |      Mapping of nuclides to the total number of atoms for each nuclide\n",
      " |      present in the cell, or in all of its instances for a 'distribmat'\n",
      " |      fill. For example, {'U235': 1.0e22, 'U238': 5.0e22, ...}.\n",
      " |  \n",
      " |      .. versionadded:: 0.12\n",
      " |  bounding_box : openmc.BoundingBox\n",
      " |      Axis-aligned bounding box of the cell\n",
      " |  \n",
      " |  Method resolution order:\n",
      " |      Cell\n",
      " |      openmc.mixin.IDManagerMixin\n",
      " |      builtins.object\n",
      " |  \n",
      " |  Methods defined here:\n",
      " |  \n",
      " |  __contains__(self, point)\n",
      " |  \n",
      " |  __init__(self, cell_id=None, name='', fill=None, region=None)\n",
      " |      Initialize self.  See help(type(self)) for accurate signature.\n",
      " |  \n",
      " |  __repr__(self)\n",
      " |      Return repr(self).\n",
      " |  \n",
      " |  add_volume_information(self, volume_calc)\n",
      " |      Add volume information to a cell.\n",
      " |      \n",
      " |      Parameters\n",
      " |      ----------\n",
      " |      volume_calc : openmc.VolumeCalculation\n",
      " |          Results from a stochastic volume calculation\n",
      " |  \n",
      " |  clone(self, clone_materials=True, clone_regions=True, memo=None)\n",
      " |      Create a copy of this cell with a new unique ID, and clones\n",
      " |      the cell's region and fill.\n",
      " |      \n",
      " |      Parameters\n",
      " |      ----------\n",
      " |      clone_materials : bool\n",
      " |          Whether to create separate copies of the materials filling cells\n",
      " |          contained in this cell, or the material filling this cell.\n",
      " |      clone_regions : bool\n",
      " |          Whether to create separate copies of the regions bounding cells\n",
      " |          contained in this cell, and the region bounding this cell.\n",
      " |      memo : dict or None\n",
      " |          A nested dictionary of previously cloned objects. This parameter\n",
      " |          is used internally and should not be specified by the user.\n",
      " |      \n",
      " |      Returns\n",
      " |      -------\n",
      " |      clone : openmc.Cell\n",
      " |          The clone of this cell\n",
      " |  \n",
      " |  create_xml_subelement(self, xml_element, memo=None)\n",
      " |      Add the cell's xml representation to an incoming xml element\n",
      " |      \n",
      " |      Parameters\n",
      " |      ----------\n",
      " |      xml_element : lxml.etree._Element\n",
      " |          XML element to be added to\n",
      " |      \n",
      " |      memo : set or None\n",
      " |          A set of object IDs representing geometry entities already\n",
      " |          written to ``xml_element``. This parameter is used internally\n",
      " |          and should not be specified by users.\n",
      " |      \n",
      " |      Returns\n",
      " |      -------\n",
      " |      None\n",
      " |  \n",
      " |  get_all_cells(self, memo=None)\n",
      " |      Return all cells that are contained within this one if it is filled with a\n",
      " |      universe or lattice\n",
      " |      \n",
      " |      Returns\n",
      " |      -------\n",
      " |      cells : dict\n",
      " |          Dictionary whose keys are cell IDs and values are :class:`Cell`\n",
      " |          instances\n",
      " |  \n",
      " |  get_all_materials(self, memo=None)\n",
      " |      Return all materials that are contained within the cell\n",
      " |      \n",
      " |      Returns\n",
      " |      -------\n",
      " |      materials : dict\n",
      " |          Dictionary whose keys are material IDs and values are\n",
      " |          :class:`Material` instances\n",
      " |  \n",
      " |  get_all_universes(self)\n",
      " |      Return all universes that are contained within this one if any of\n",
      " |      its cells are filled with a universe or lattice.\n",
      " |      \n",
      " |      Returns\n",
      " |      -------\n",
      " |      universes : dict\n",
      " |          Dictionary whose keys are universe IDs and values are\n",
      " |          :class:`Universe` instances\n",
      " |  \n",
      " |  get_nuclide_densities(self)\n",
      " |      Return all nuclides contained in the cell and their densities\n",
      " |      \n",
      " |      Returns\n",
      " |      -------\n",
      " |      nuclides : dict\n",
      " |          Dictionary whose keys are nuclide names and values are 2-tuples of\n",
      " |          (nuclide, density)\n",
      " |  \n",
      " |  get_nuclides(self)\n",
      " |      Returns all nuclides in the cell\n",
      " |      \n",
      " |      Returns\n",
      " |      -------\n",
      " |      nuclides : list of str\n",
      " |          List of nuclide names\n",
      " |  \n",
      " |  plot(self, *args, **kwargs)\n",
      " |      Display a slice plot of the cell.\n",
      " |      \n",
      " |      .. versionadded:: 0.14.0\n",
      " |      \n",
      " |      Parameters\n",
      " |      ----------\n",
      " |      origin : iterable of float\n",
      " |          Coordinates at the origin of the plot. If left as None then the\n",
      " |          bounding box center will be used to attempt to ascertain the origin.\n",
      " |          Defaults to (0, 0, 0) if the bounding box is not finite\n",
      " |      width : iterable of float\n",
      " |          Width of the plot in each basis direction. If left as none then the\n",
      " |          bounding box width will be used to attempt to ascertain the plot\n",
      " |          width. Defaults to (10, 10) if the bounding box is not finite\n",
      " |      pixels : Iterable of int or int\n",
      " |          If iterable of ints provided, then this directly sets the number of\n",
      " |          pixels to use in each basis direction. If int provided, then this\n",
      " |          sets the total number of pixels in the plot and the number of pixels\n",
      " |          in each basis direction is calculated from this total and the image\n",
      " |          aspect ratio.\n",
      " |      basis : {'xy', 'xz', 'yz'}\n",
      " |          The basis directions for the plot\n",
      " |      color_by : {'cell', 'material'}\n",
      " |          Indicate whether the plot should be colored by cell or by material\n",
      " |      colors : dict\n",
      " |          Assigns colors to specific materials or cells. Keys are instances of\n",
      " |          :class:`Cell` or :class:`Material` and values are RGB 3-tuples, RGBA\n",
      " |          4-tuples, or strings indicating SVG color names. Red, green, blue,\n",
      " |          and alpha should all be floats in the range [0.0, 1.0], for example:\n",
      " |      \n",
      " |          .. code-block:: python\n",
      " |      \n",
      " |             # Make water blue\n",
      " |             water = openmc.Cell(fill=h2o)\n",
      " |             universe.plot(..., colors={water: (0., 0., 1.))\n",
      " |      seed : int\n",
      " |          Seed for the random number generator\n",
      " |      openmc_exec : str\n",
      " |          Path to OpenMC executable.\n",
      " |      axes : matplotlib.Axes\n",
      " |          Axes to draw to\n",
      " |      legend : bool\n",
      " |          Whether a legend showing material or cell names should be drawn\n",
      " |      legend_kwargs : dict\n",
      " |          Keyword arguments passed to :func:`matplotlib.pyplot.legend`.\n",
      " |      outline : bool\n",
      " |          Whether outlines between color boundaries should be drawn\n",
      " |      axis_units : {'km', 'm', 'cm', 'mm'}\n",
      " |          Units used on the plot axis\n",
      " |      **kwargs\n",
      " |          Keyword arguments passed to :func:`matplotlib.pyplot.imshow`\n",
      " |      \n",
      " |      Returns\n",
      " |      -------\n",
      " |      matplotlib.axes.Axes\n",
      " |          Axes containing resulting image\n",
      " |  \n",
      " |  ----------------------------------------------------------------------\n",
      " |  Class methods defined here:\n",
      " |  \n",
      " |  from_xml_element(elem, surfaces, materials, get_universe) from builtins.type\n",
      " |      Generate cell from XML element\n",
      " |      \n",
      " |      Parameters\n",
      " |      ----------\n",
      " |      elem : lxml.etree._Element\n",
      " |          `<cell>` element\n",
      " |      surfaces : dict\n",
      " |          Dictionary mapping surface IDs to :class:`openmc.Surface` instances\n",
      " |      materials : dict\n",
      " |          Dictionary mapping material ID strings to :class:`openmc.Material`\n",
      " |          instances (defined in :meth:`openmc.Geometry.from_xml`)\n",
      " |      get_universe : function\n",
      " |          Function returning universe (defined in\n",
      " |          :meth:`openmc.Geometry.from_xml`)\n",
      " |      \n",
      " |      Returns\n",
      " |      -------\n",
      " |      openmc.Cell\n",
      " |          Cell instance\n",
      " |  \n",
      " |  ----------------------------------------------------------------------\n",
      " |  Readonly properties defined here:\n",
      " |  \n",
      " |  atoms\n",
      " |  \n",
      " |  bounding_box\n",
      " |  \n",
      " |  fill_type\n",
      " |  \n",
      " |  num_instances\n",
      " |  \n",
      " |  paths\n",
      " |  \n",
      " |  rotation_matrix\n",
      " |  \n",
      " |  ----------------------------------------------------------------------\n",
      " |  Data descriptors defined here:\n",
      " |  \n",
      " |  fill\n",
      " |  \n",
      " |  name\n",
      " |  \n",
      " |  region\n",
      " |  \n",
      " |  rotation\n",
      " |  \n",
      " |  temperature\n",
      " |  \n",
      " |  translation\n",
      " |  \n",
      " |  volume\n",
      " |  \n",
      " |  ----------------------------------------------------------------------\n",
      " |  Data and other attributes defined here:\n",
      " |  \n",
      " |  next_id = 3\n",
      " |  \n",
      " |  used_ids = {1, 2, 3}\n",
      " |  \n",
      " |  ----------------------------------------------------------------------\n",
      " |  Data descriptors inherited from openmc.mixin.IDManagerMixin:\n",
      " |  \n",
      " |  __dict__\n",
      " |      dictionary for instance variables (if defined)\n",
      " |  \n",
      " |  __weakref__\n",
      " |      list of weak references to the object (if defined)\n",
      " |  \n",
      " |  id\n",
      "\n"
     ]
    }
   ],
   "source": [
    "help(openmc.Cell)"
   ]
  },
  {
   "cell_type": "markdown",
   "metadata": {},
   "source": [
    "Attributes which have a default value will appear as `<attribute>=<the default value>` in the class/function definition. For example, in the above we see that the default name for a cell is the empty string, `''`.\n",
    "\n",
    "For classes, all of the member functions you can access will then be defined further down, with their associated documentation. To see documentation for just one specific function, you can use syntax like:"
   ]
  },
  {
   "cell_type": "code",
   "execution_count": null,
   "metadata": {},
   "outputs": [],
   "source": [
    "my_cell = openmc.Cell()\n",
    "help(my_cell.clone)"
   ]
  },
  {
   "cell_type": "markdown",
   "metadata": {},
   "source": [
    "You can also query the type of a particular object using `type`. Note that we can also display the attributes for a particular object using `print`."
   ]
  },
  {
   "cell_type": "code",
   "execution_count": null,
   "metadata": {},
   "outputs": [],
   "source": [
    "type(my_cell)"
   ]
  },
  {
   "cell_type": "code",
   "execution_count": 10,
   "metadata": {},
   "outputs": [
    {
     "name": "stdout",
     "output_type": "stream",
     "text": [
      "Cell\n",
      "\tID             =\t4\n",
      "\tName           =\t\n",
      "\tFill           =\tNone\n",
      "\tRegion         =\tNone\n",
      "\tRotation       =\tNone\n",
      "\tTranslation    =\tNone\n",
      "\tVolume         =\tNone\n",
      "\n"
     ]
    }
   ],
   "source": [
    "print(my_cell)"
   ]
  },
  {
   "cell_type": "markdown",
   "metadata": {},
   "source": [
    "In order to quickly see all of the member functions on a class, press `Tab` to perform tab-completion to view a drop-down list on all the options available to you. You can then do `Shift+Tab` to see the documentation for each function inline."
   ]
  },
  {
   "cell_type": "code",
   "execution_count": 11,
   "metadata": {},
   "outputs": [],
   "source": [
    "#my_cell."
   ]
  },
  {
   "cell_type": "markdown",
   "metadata": {},
   "source": [
    "## OpenMC Model\n",
    "\n",
    "The OpenMC `Model` class houses all of the pieces of a Monte Carlo simulation. We will assemble our pincell by progressively adding to a model, and then run that model."
   ]
  },
  {
   "cell_type": "code",
   "execution_count": 12,
   "metadata": {},
   "outputs": [],
   "source": [
    "model = openmc.Model()"
   ]
  },
  {
   "cell_type": "markdown",
   "metadata": {},
   "source": [
    "### The `cross_sections.xml` file\n",
    "\n",
    "The `cross_sections.xml` tells OpenMC where it can find nuclide cross sections and $S(\\alpha,\\beta)$ tables. It serves the same purpose as MCNP's `xsdir` file and Serpent's `xsdata` file. As we mentioned, this can be set either by the `OPENMC_CROSS_SECTIONS` environment variable or the `Materials.cross_sections` attribute.\n",
    "\n",
    "Let's have a look at what's inside this file:"
   ]
  },
  {
   "cell_type": "code",
   "execution_count": 13,
   "metadata": {},
   "outputs": [
    {
     "name": "stdout",
     "output_type": "stream",
     "text": [
      "<?xml version='1.0' encoding='utf-8'?>\n",
      "<cross_sections>\n",
      "  <library materials=\"H1\" path=\"neutron/H1.h5\" type=\"neutron\" />\n",
      "  <library materials=\"H2\" path=\"neutron/H2.h5\" type=\"neutron\" />\n",
      "  <library materials=\"H3\" path=\"neutron/H3.h5\" type=\"neutron\" />\n",
      "  <library materials=\"He3\" path=\"neutron/He3.h5\" type=\"neutron\" />\n",
      "  <library materials=\"He4\" path=\"neutron/He4.h5\" type=\"neutron\" />\n",
      "  <library materials=\"Li6\" path=\"neutron/Li6.h5\" type=\"neutron\" />\n",
      "  <library materials=\"Li7\" path=\"neutron/Li7.h5\" type=\"neutron\" />\n",
      "  <library materials=\"Be7\" path=\"neutron/Be7.h5\" type=\"neutron\" />\n",
      "    ...\n",
      "  <library materials=\"Cf253\" path=\"wmp/098253.h5\" type=\"wmp\" />\n",
      "  <library materials=\"Cf254\" path=\"wmp/098254.h5\" type=\"wmp\" />\n",
      "  <library materials=\"Es251\" path=\"wmp/099251.h5\" type=\"wmp\" />\n",
      "  <library materials=\"Es252\" path=\"wmp/099252.h5\" type=\"wmp\" />\n",
      "  <library materials=\"Es253\" path=\"wmp/099253.h5\" type=\"wmp\" />\n",
      "  <library materials=\"Es254\" path=\"wmp/099254.h5\" type=\"wmp\" />\n",
      "  <library materials=\"Es254_m1\" path=\"wmp/099254m1.h5\" type=\"wmp\" />\n",
      "  <library materials=\"Es255\" path=\"wmp/099255.h5\" type=\"wmp\" />\n",
      "  <library materials=\"Fm255\" path=\"wmp/100255.h5\" type=\"wmp\" />\n",
      "</cross_sections>\n"
     ]
    }
   ],
   "source": [
    "!cat $OPENMC_CROSS_SECTIONS | head -n 10\n",
    "print('    ...')\n",
    "!cat $OPENMC_CROSS_SECTIONS | tail -n 10"
   ]
  },
  {
   "cell_type": "markdown",
   "metadata": {},
   "source": [
    "## Defining Materials\n",
    "\n",
    "Materials in OpenMC are defined as a set of nuclides with specified atom/weight fractions. To begin, we will create a material by making an instance of the `Material` class. In OpenMC, many objects, including materials, are identified by a \"unique ID\" (a positive integer). You can also give a material a `name` as well."
   ]
  },
  {
   "cell_type": "code",
   "execution_count": 14,
   "metadata": {},
   "outputs": [
    {
     "name": "stdout",
     "output_type": "stream",
     "text": [
      "Material\n",
      "\tID             =\t1\n",
      "\tName           =\tzirconium\n",
      "\tTemperature    =\tNone\n",
      "\tDensity        =\tNone [sum]\n",
      "\tVolume         =\tNone [cm^3]\n",
      "\tDepletable     =\tFalse\n",
      "\tS(a,b) Tables  \n",
      "\tNuclides       \n",
      "\n"
     ]
    }
   ],
   "source": [
    "zirconium = openmc.Material(1, \"zirconium\")\n",
    "print(zirconium)"
   ]
  },
  {
   "cell_type": "markdown",
   "metadata": {},
   "source": [
    "One great feature in OpenMC's design is that the user interaction is designed to be as streamlined as possible. You don't *need* to set either an ID or a name (because often you can simply refer to an object with the actual object handle). If you were to create a material without any ID, OpenMC will assign a default for you."
   ]
  },
  {
   "cell_type": "code",
   "execution_count": 15,
   "metadata": {},
   "outputs": [
    {
     "name": "stdout",
     "output_type": "stream",
     "text": [
      "Material\n",
      "\tID             =\t2\n",
      "\tName           =\t\n",
      "\tTemperature    =\tNone\n",
      "\tDensity        =\tNone [sum]\n",
      "\tVolume         =\tNone [cm^3]\n",
      "\tDepletable     =\tFalse\n",
      "\tS(a,b) Tables  \n",
      "\tNuclides       \n",
      "\n"
     ]
    }
   ],
   "source": [
    "mat = openmc.Material()\n",
    "print(mat)"
   ]
  },
  {
   "cell_type": "markdown",
   "metadata": {},
   "source": [
    "We see that an ID of 2 was automatically assigned. Let's now move on to adding nuclides to our material. The `Material` object has a method `add_element()` whose first argument is the name of the nuclide and second argument is the atom or weight fraction. We see that by default it assumes we want an atom fraction."
   ]
  },
  {
   "cell_type": "code",
   "execution_count": 16,
   "metadata": {},
   "outputs": [],
   "source": [
    "#zirconium.add_element"
   ]
  },
  {
   "cell_type": "code",
   "execution_count": 17,
   "metadata": {},
   "outputs": [],
   "source": [
    "zirconium.add_element('Zr', 1.0)\n",
    "zirconium.set_density('g/cm3', 6.5)"
   ]
  },
  {
   "cell_type": "code",
   "execution_count": 18,
   "metadata": {},
   "outputs": [
    {
     "name": "stdout",
     "output_type": "stream",
     "text": [
      "Material\n",
      "\tID             =\t1\n",
      "\tName           =\tzirconium\n",
      "\tTemperature    =\tNone\n",
      "\tDensity        =\t6.5 [g/cm3]\n",
      "\tVolume         =\tNone [cm^3]\n",
      "\tDepletable     =\tFalse\n",
      "\tS(a,b) Tables  \n",
      "\tNuclides       \n",
      "\tZr90           =\t0.5145       [ao]\n",
      "\tZr91           =\t0.1122       [ao]\n",
      "\tZr92           =\t0.1715       [ao]\n",
      "\tZr94           =\t0.1738       [ao]\n",
      "\tZr96           =\t0.028        [ao]\n",
      "\n"
     ]
    }
   ],
   "source": [
    "print(zirconium)"
   ]
  },
  {
   "cell_type": "markdown",
   "metadata": {},
   "source": [
    "### Element Expansion\n",
    "We can see that OpenMC automatically inserted the natural abundances of the zirconium isotopes for us! How convenient! The way this feature works is as follows:\n",
    "\n",
    "- First, it checks whether `Materials.cross_sections` has been set, indicating the path to a `cross_sections.xml` file.\n",
    "- If `Materials.cross_sections` isn't set, it looks for the `OPENMC_CROSS_SECTIONS` environment variable.\n",
    "- If either of these are found, it scans the file to see what nuclides are actually available and will expand elements accordingly.\n",
    "\n",
    "Let's build our fuel material. For sake of illustration, let's suppose that we had O-16, but not natural oxygen in our fuel. Also note that OpenMC has a convenient feature to set the nuclide concentrations for weight percent enrichments in U-235."
   ]
  },
  {
   "cell_type": "code",
   "execution_count": 19,
   "metadata": {},
   "outputs": [],
   "source": [
    "# Add nuclides to uo2\n",
    "uo2 = openmc.Material()\n",
    "uo2.add_element('U', 1.0, enrichment=3.5)\n",
    "uo2.add_nuclide('O16', 2.0)\n",
    "uo2.set_density('g/cm3', 10.0)"
   ]
  },
  {
   "cell_type": "markdown",
   "metadata": {},
   "source": [
    "With UO2 finished, let's now create materials for the coolant."
   ]
  },
  {
   "cell_type": "code",
   "execution_count": 20,
   "metadata": {},
   "outputs": [],
   "source": [
    "water = openmc.Material()\n",
    "water.add_element('H', 2.0)\n",
    "water.add_nuclide('O16', 1.0)\n",
    "water.set_density('g/cm3', 1.0)"
   ]
  },
  {
   "cell_type": "markdown",
   "metadata": {},
   "source": [
    "An astute observer might now point out that this water material we just created will only use free-atom cross sections. We need to tell it to use an $S(\\alpha,\\beta)$ table so that the bound atom cross section is used at thermal energies. To do this, there's an `add_s_alpha_beta()` method."
   ]
  },
  {
   "cell_type": "code",
   "execution_count": 21,
   "metadata": {},
   "outputs": [],
   "source": [
    "water.add_s_alpha_beta('c_H_in_H2O')"
   ]
  },
  {
   "cell_type": "code",
   "execution_count": 22,
   "metadata": {},
   "outputs": [
    {
     "name": "stdout",
     "output_type": "stream",
     "text": [
      "/Users/anovak/projects/cross_sections/endfb-vii.1-hdf5/cross_sections.xml\n",
      "cross_sections.xml \u001b[1m\u001b[36mneutron\u001b[m\u001b[m            \u001b[1m\u001b[36mphoton\u001b[m\u001b[m             \u001b[1m\u001b[36mwmp\u001b[m\u001b[m\n",
      "Ac225.h5             Ge76.h5              Sb121.h5\n",
      "Ac226.h5             H1.h5                Sb123.h5\n",
      "Ac227.h5             H2.h5                Sb124.h5\n",
      "Ag107.h5             H3.h5                Sb125.h5\n",
      "Ag109.h5             He3.h5               Sb126.h5\n",
      "Ag110_m1.h5          He4.h5               Sc45.h5\n",
      "Ag111.h5             Hf174.h5             Se74.h5\n",
      "Al27.h5              Hf176.h5             Se76.h5\n",
      "Am240.h5             Hf177.h5             Se77.h5\n",
      "Am241.h5             Hf178.h5             Se78.h5\n",
      "Am242.h5             Hf179.h5             Se79.h5\n",
      "Am242_m1.h5          Hf180.h5             Se80.h5\n",
      "Am243.h5             Hg196.h5             Se82.h5\n",
      "Am244.h5             Hg198.h5             Si28.h5\n",
      "Am244_m1.h5          Hg199.h5             Si29.h5\n",
      "Ar36.h5              Hg200.h5             Si30.h5\n",
      "Ar38.h5              Hg201.h5             Sm144.h5\n",
      "Ar40.h5              Hg202.h5             Sm147.h5\n",
      "As74.h5              Hg204.h5             Sm148.h5\n",
      "As75.h5              Ho165.h5             Sm149.h5\n",
      "Au197.h5             Ho166_m1.h5          Sm150.h5\n",
      "B10.h5               I127.h5              Sm151.h5\n",
      "B11.h5               I129.h5              Sm152.h5\n",
      "Ba130.h5             I130.h5              Sm153.h5\n",
      "Ba132.h5             I131.h5              Sm154.h5\n",
      "Ba133.h5             I135.h5              Sn112.h5\n",
      "Ba134.h5             In113.h5             Sn113.h5\n",
      "Ba135.h5             In115.h5             Sn114.h5\n",
      "Ba136.h5             Ir191.h5             Sn115.h5\n",
      "Ba137.h5             Ir193.h5             Sn116.h5\n",
      "Ba138.h5             K39.h5               Sn117.h5\n",
      "Ba140.h5             K40.h5               Sn118.h5\n",
      "Be7.h5               K41.h5               Sn119.h5\n",
      "Be9.h5               Kr78.h5              Sn120.h5\n",
      "Bi209.h5             Kr80.h5              Sn122.h5\n",
      "Bk245.h5             Kr82.h5              Sn123.h5\n",
      "Bk246.h5             Kr83.h5              Sn124.h5\n",
      "Bk247.h5             Kr84.h5              Sn125.h5\n",
      "Bk248.h5             Kr85.h5              Sn126.h5\n",
      "Bk249.h5             Kr86.h5              Sr84.h5\n",
      "Bk250.h5             La138.h5             Sr86.h5\n",
      "Br79.h5              La139.h5             Sr87.h5\n",
      "Br81.h5              La140.h5             Sr88.h5\n",
      "C0.h5                Li6.h5               Sr89.h5\n",
      "Ca40.h5              Li7.h5               Sr90.h5\n",
      "Ca42.h5              Lu175.h5             Ta180.h5\n",
      "Ca43.h5              Lu176.h5             Ta181.h5\n",
      "Ca44.h5              Mg24.h5              Ta182.h5\n",
      "Ca46.h5              Mg25.h5              Tb159.h5\n",
      "Ca48.h5              Mg26.h5              Tb160.h5\n",
      "Cd106.h5             Mn55.h5              Tc99.h5\n",
      "Cd108.h5             Mo100.h5             Te120.h5\n",
      "Cd110.h5             Mo92.h5              Te122.h5\n",
      "Cd111.h5             Mo94.h5              Te123.h5\n",
      "Cd112.h5             Mo95.h5              Te124.h5\n",
      "Cd113.h5             Mo96.h5              Te125.h5\n",
      "Cd114.h5             Mo97.h5              Te126.h5\n",
      "Cd115_m1.h5          Mo98.h5              Te127_m1.h5\n",
      "Cd116.h5             Mo99.h5              Te128.h5\n",
      "Ce136.h5             N14.h5               Te129_m1.h5\n",
      "Ce138.h5             N15.h5               Te130.h5\n",
      "Ce139.h5             Na22.h5              Te132.h5\n",
      "Ce140.h5             Na23.h5              Th227.h5\n",
      "Ce141.h5             Nb93.h5              Th228.h5\n",
      "Ce142.h5             Nb94.h5              Th229.h5\n",
      "Ce143.h5             Nb95.h5              Th230.h5\n",
      "Ce144.h5             Nd142.h5             Th231.h5\n",
      "Cf246.h5             Nd143.h5             Th232.h5\n",
      "Cf248.h5             Nd144.h5             Th233.h5\n",
      "Cf249.h5             Nd145.h5             Th234.h5\n",
      "Cf250.h5             Nd146.h5             Ti46.h5\n",
      "Cf251.h5             Nd147.h5             Ti47.h5\n",
      "Cf252.h5             Nd148.h5             Ti48.h5\n",
      "Cf253.h5             Nd150.h5             Ti49.h5\n",
      "Cf254.h5             Ni58.h5              Ti50.h5\n",
      "Cl35.h5              Ni59.h5              Tl203.h5\n",
      "Cl37.h5              Ni60.h5              Tl205.h5\n",
      "Cm240.h5             Ni61.h5              Tm168.h5\n",
      "Cm241.h5             Ni62.h5              Tm169.h5\n",
      "Cm242.h5             Ni64.h5              Tm170.h5\n",
      "Cm243.h5             Np234.h5             U230.h5\n",
      "Cm244.h5             Np235.h5             U231.h5\n",
      "Cm245.h5             Np236.h5             U232.h5\n",
      "Cm246.h5             Np237.h5             U233.h5\n",
      "Cm247.h5             Np238.h5             U234.h5\n",
      "Cm248.h5             Np239.h5             U235.h5\n",
      "Cm249.h5             O16.h5               U236.h5\n",
      "Cm250.h5             O17.h5               U237.h5\n",
      "Co58.h5              P31.h5               U238.h5\n",
      "Co58_m1.h5           Pa229.h5             U239.h5\n",
      "Co59.h5              Pa230.h5             U240.h5\n",
      "Cr50.h5              Pa231.h5             U241.h5\n",
      "Cr52.h5              Pa232.h5             V50.h5\n",
      "Cr53.h5              Pa233.h5             V51.h5\n",
      "Cr54.h5              Pb204.h5             W180.h5\n",
      "Cs133.h5             Pb206.h5             W182.h5\n",
      "Cs134.h5             Pb207.h5             W183.h5\n",
      "Cs135.h5             Pb208.h5             W184.h5\n",
      "Cs136.h5             Pd102.h5             W186.h5\n",
      "Cs137.h5             Pd104.h5             Xe123.h5\n",
      "Cu63.h5              Pd105.h5             Xe124.h5\n",
      "Cu65.h5              Pd106.h5             Xe126.h5\n",
      "Dy156.h5             Pd107.h5             Xe128.h5\n",
      "Dy158.h5             Pd108.h5             Xe129.h5\n",
      "Dy160.h5             Pd110.h5             Xe130.h5\n",
      "Dy161.h5             Pm147.h5             Xe131.h5\n",
      "Dy162.h5             Pm148.h5             Xe132.h5\n",
      "Dy163.h5             Pm148_m1.h5          Xe133.h5\n",
      "Dy164.h5             Pm149.h5             Xe134.h5\n",
      "Er162.h5             Pm151.h5             Xe135.h5\n",
      "Er164.h5             Pr141.h5             Xe136.h5\n",
      "Er166.h5             Pr142.h5             Y89.h5\n",
      "Er167.h5             Pr143.h5             Y90.h5\n",
      "Er168.h5             Pu236.h5             Y91.h5\n",
      "Er170.h5             Pu237.h5             Zn64.h5\n",
      "Es251.h5             Pu238.h5             Zn65.h5\n",
      "Es252.h5             Pu239.h5             Zn66.h5\n",
      "Es253.h5             Pu240.h5             Zn67.h5\n",
      "Es254.h5             Pu241.h5             Zn68.h5\n",
      "Es254_m1.h5          Pu242.h5             Zn70.h5\n",
      "Es255.h5             Pu243.h5             Zr90.h5\n",
      "Eu151.h5             Pu244.h5             Zr91.h5\n",
      "Eu152.h5             Pu246.h5             Zr92.h5\n",
      "Eu153.h5             Ra223.h5             Zr93.h5\n",
      "Eu154.h5             Ra224.h5             Zr94.h5\n",
      "Eu155.h5             Ra225.h5             Zr95.h5\n",
      "Eu156.h5             Ra226.h5             Zr96.h5\n",
      "Eu157.h5             Rb85.h5              c_Al27.h5\n",
      "F19.h5               Rb86.h5              c_Be.h5\n",
      "Fe54.h5              Rb87.h5              c_Be_in_BeO.h5\n",
      "Fe56.h5              Re185.h5             c_C6H6.h5\n",
      "Fe57.h5              Re187.h5             c_D_in_D2O.h5\n",
      "Fe58.h5              Rh103.h5             c_Fe56.h5\n",
      "Fm255.h5             Rh105.h5             c_Graphite.h5\n",
      "Ga69.h5              Ru100.h5             c_H_in_CH2.h5\n",
      "Ga71.h5              Ru101.h5             c_H_in_CH4_liquid.h5\n",
      "Gd152.h5             Ru102.h5             c_H_in_CH4_solid.h5\n",
      "Gd153.h5             Ru103.h5             c_H_in_H2O.h5\n",
      "Gd154.h5             Ru104.h5             c_H_in_ZrH.h5\n",
      "Gd155.h5             Ru105.h5             c_O_in_BeO.h5\n",
      "Gd156.h5             Ru106.h5             c_O_in_UO2.h5\n",
      "Gd157.h5             Ru96.h5              c_SiO2_alpha.h5\n",
      "Gd158.h5             Ru98.h5              c_U_in_UO2.h5\n",
      "Gd160.h5             Ru99.h5              c_Zr_in_ZrH.h5\n",
      "Ge70.h5              S32.h5               c_ortho_D.h5\n",
      "Ge72.h5              S33.h5               c_ortho_H.h5\n",
      "Ge73.h5              S34.h5               c_para_D.h5\n",
      "Ge74.h5              S36.h5               c_para_H.h5\n"
     ]
    }
   ],
   "source": [
    "!ls $OPENMC_CROSS_SECTIONS\n",
    "!ls /Users/anovak/projects/cross_sections/endfb-vii.1-hdf5/\n",
    "!ls /Users/anovak/projects/cross_sections/endfb-vii.1-hdf5/neutron"
   ]
  },
  {
   "cell_type": "markdown",
   "metadata": {},
   "source": [
    "We are done with our materials -- now we just need to register them in our model."
   ]
  },
  {
   "cell_type": "code",
   "execution_count": 23,
   "metadata": {},
   "outputs": [
    {
     "name": "stdout",
     "output_type": "stream",
     "text": [
      "[Material\n",
      "\tID             =\t3\n",
      "\tName           =\t\n",
      "\tTemperature    =\tNone\n",
      "\tDensity        =\t10.0 [g/cm3]\n",
      "\tVolume         =\tNone [cm^3]\n",
      "\tDepletable     =\tTrue\n",
      "\tS(a,b) Tables  \n",
      "\tNuclides       \n",
      "\tU234           =\t0.0003166930253944235 [ao]\n",
      "\tU235           =\t0.03543164439454172 [ao]\n",
      "\tU238           =\t0.964089368630351 [ao]\n",
      "\tU236           =\t0.00016229394971280895 [ao]\n",
      "\tO16            =\t2.0          [ao]\n",
      ", Material\n",
      "\tID             =\t1\n",
      "\tName           =\tzirconium\n",
      "\tTemperature    =\tNone\n",
      "\tDensity        =\t6.5 [g/cm3]\n",
      "\tVolume         =\tNone [cm^3]\n",
      "\tDepletable     =\tFalse\n",
      "\tS(a,b) Tables  \n",
      "\tNuclides       \n",
      "\tZr90           =\t0.5145       [ao]\n",
      "\tZr91           =\t0.1122       [ao]\n",
      "\tZr92           =\t0.1715       [ao]\n",
      "\tZr94           =\t0.1738       [ao]\n",
      "\tZr96           =\t0.028        [ao]\n",
      ", Material\n",
      "\tID             =\t4\n",
      "\tName           =\t\n",
      "\tTemperature    =\tNone\n",
      "\tDensity        =\t1.0 [g/cm3]\n",
      "\tVolume         =\tNone [cm^3]\n",
      "\tDepletable     =\tFalse\n",
      "\tS(a,b) Tables  \n",
      "\tS(a,b)         =\t('c_H_in_H2O', 1.0)\n",
      "\tNuclides       \n",
      "\tH1             =\t1.99968852   [ao]\n",
      "\tH2             =\t0.00031148   [ao]\n",
      "\tO16            =\t1.0          [ao]\n",
      "]\n"
     ]
    }
   ],
   "source": [
    "model.materials = openmc.Materials([uo2, zirconium, water])\n",
    "print(model.materials)"
   ]
  },
  {
   "cell_type": "markdown",
   "metadata": {},
   "source": [
    "### Material Modifications\n",
    "\n",
    "The power of OpenMC's Python API is the ability to easily modify and control your model."
   ]
  },
  {
   "cell_type": "code",
   "execution_count": 24,
   "metadata": {},
   "outputs": [
    {
     "name": "stdout",
     "output_type": "stream",
     "text": [
      "Material\n",
      "\tID             =\t4\n",
      "\tName           =\t\n",
      "\tTemperature    =\tNone\n",
      "\tDensity        =\t1.0 [g/cm3]\n",
      "\tVolume         =\tNone [cm^3]\n",
      "\tDepletable     =\tFalse\n",
      "\tS(a,b) Tables  \n",
      "\tS(a,b)         =\t('c_H_in_H2O', 1.0)\n",
      "\tNuclides       \n",
      "\tH1             =\t1.99968852   [ao]\n",
      "\tH2             =\t0.00031148   [ao]\n",
      "\tO16            =\t1.0          [ao]\n",
      "\n",
      "Material\n",
      "\tID             =\t4\n",
      "\tName           =\t\n",
      "\tTemperature    =\tNone\n",
      "\tDensity        =\t1.0 [g/cm3]\n",
      "\tVolume         =\tNone [cm^3]\n",
      "\tDepletable     =\tFalse\n",
      "\tS(a,b) Tables  \n",
      "\tS(a,b)         =\t('c_H_in_H2O', 1.0)\n",
      "\tNuclides       \n",
      "\tH1             =\t1.99968852   [ao]\n",
      "\tH2             =\t0.00031148   [ao]\n",
      "\n",
      "Material\n",
      "\tID             =\t4\n",
      "\tName           =\t\n",
      "\tTemperature    =\tNone\n",
      "\tDensity        =\t1.0 [g/cm3]\n",
      "\tVolume         =\tNone [cm^3]\n",
      "\tDepletable     =\tFalse\n",
      "\tS(a,b) Tables  \n",
      "\tS(a,b)         =\t('c_H_in_H2O', 1.0)\n",
      "\tNuclides       \n",
      "\tH1             =\t1.99968852   [ao]\n",
      "\tH2             =\t0.00031148   [ao]\n",
      "\tO16            =\t0.999621     [ao]\n",
      "\tO17            =\t0.000379     [ao]\n",
      "\n"
     ]
    }
   ],
   "source": [
    "print(water)\n",
    "\n",
    "water.remove_nuclide('O16')\n",
    "\n",
    "print(water)\n",
    "\n",
    "water.add_element('O', 1.0)\n",
    "\n",
    "print(water)"
   ]
  },
  {
   "cell_type": "markdown",
   "metadata": {},
   "source": [
    "We see that now O16 and O17 were automatically added. O18 is missing because our cross sections file (which is based on ENDF/B-VII.1) doesn't have O18."
   ]
  },
  {
   "cell_type": "markdown",
   "metadata": {},
   "source": [
    "### Python Lists\n",
    "\n",
    "Many of OpenMC's classes are derived from Python's `list` type, and can therefore be appended, popped, etc."
   ]
  },
  {
   "cell_type": "code",
   "execution_count": 25,
   "metadata": {},
   "outputs": [
    {
     "name": "stdout",
     "output_type": "stream",
     "text": [
      "True\n"
     ]
    }
   ],
   "source": [
    "print(isinstance(model.materials, list))"
   ]
  },
  {
   "cell_type": "code",
   "execution_count": 26,
   "metadata": {},
   "outputs": [],
   "source": [
    "new_fuel = openmc.Material()\n",
    "new_fuel.add_nuclide('Pu239', 1.0)\n",
    "new_fuel.add_nuclide('Si28', 2.0)\n",
    "new_fuel.set_density('g/cm3', 9.0)"
   ]
  },
  {
   "cell_type": "code",
   "execution_count": 27,
   "metadata": {},
   "outputs": [
    {
     "name": "stdout",
     "output_type": "stream",
     "text": [
      "[Material\n",
      "\tID             =\t3\n",
      "\tName           =\t\n",
      "\tTemperature    =\tNone\n",
      "\tDensity        =\t10.0 [g/cm3]\n",
      "\tVolume         =\tNone [cm^3]\n",
      "\tDepletable     =\tTrue\n",
      "\tS(a,b) Tables  \n",
      "\tNuclides       \n",
      "\tU234           =\t0.0003166930253944235 [ao]\n",
      "\tU235           =\t0.03543164439454172 [ao]\n",
      "\tU238           =\t0.964089368630351 [ao]\n",
      "\tU236           =\t0.00016229394971280895 [ao]\n",
      "\tO16            =\t2.0          [ao]\n",
      ", Material\n",
      "\tID             =\t1\n",
      "\tName           =\tzirconium\n",
      "\tTemperature    =\tNone\n",
      "\tDensity        =\t6.5 [g/cm3]\n",
      "\tVolume         =\tNone [cm^3]\n",
      "\tDepletable     =\tFalse\n",
      "\tS(a,b) Tables  \n",
      "\tNuclides       \n",
      "\tZr90           =\t0.5145       [ao]\n",
      "\tZr91           =\t0.1122       [ao]\n",
      "\tZr92           =\t0.1715       [ao]\n",
      "\tZr94           =\t0.1738       [ao]\n",
      "\tZr96           =\t0.028        [ao]\n",
      ", Material\n",
      "\tID             =\t4\n",
      "\tName           =\t\n",
      "\tTemperature    =\tNone\n",
      "\tDensity        =\t1.0 [g/cm3]\n",
      "\tVolume         =\tNone [cm^3]\n",
      "\tDepletable     =\tFalse\n",
      "\tS(a,b) Tables  \n",
      "\tS(a,b)         =\t('c_H_in_H2O', 1.0)\n",
      "\tNuclides       \n",
      "\tH1             =\t1.99968852   [ao]\n",
      "\tH2             =\t0.00031148   [ao]\n",
      "\tO16            =\t0.999621     [ao]\n",
      "\tO17            =\t0.000379     [ao]\n",
      ", Material\n",
      "\tID             =\t5\n",
      "\tName           =\t\n",
      "\tTemperature    =\tNone\n",
      "\tDensity        =\t9.0 [g/cm3]\n",
      "\tVolume         =\tNone [cm^3]\n",
      "\tDepletable     =\tTrue\n",
      "\tS(a,b) Tables  \n",
      "\tNuclides       \n",
      "\tPu239          =\t1.0          [ao]\n",
      "\tSi28           =\t2.0          [ao]\n",
      "]\n"
     ]
    }
   ],
   "source": [
    "model.materials.append(new_fuel)\n",
    "print(model.materials)"
   ]
  },
  {
   "cell_type": "markdown",
   "metadata": {},
   "source": [
    "## Defining Geometry\n",
    "\n",
    "We now need to define the geometry. One way to do so is to use constructive solid geometry (CSG), also known as combinatorial geometry. The object that allows us to assign a material to a region of space is called a `Cell` (same concept in MCNP, for those familiar). There are four stages in building a cell:\n",
    "\n",
    "#### Surfaces\n",
    "In order to define a region that we can assign to a cell, we must first define surfaces which bound the region. A *surface* is a locus of zeros of a function of Cartesian coordinates $x$, $y$, and $z$, e.g.\n",
    "\n",
    "- A plane perpendicular to the x axis: $x - x_0 = 0$\n",
    "- A cylinder parallel to the z axis: $(x - x_0)^2 + (y - y_0)^2 - R^2 = 0$\n",
    "- A sphere: $(x - x_0)^2 + (y - y_0)^2 + (z - z_0)^2 - R^2 = 0$\n",
    "\n",
    "The full [list of available surfaces](https://docs.openmc.org/en/stable/pythonapi/base.html#building-geometry) is as follows.\n",
    "\n",
    "Planes:\n",
    "\n",
    "- `openmc.Plane` — An arbitrary plane of the form $Ax + By + Cz = D$\n",
    "- `openmc.XPlane` — A plane perpendicular to the x axis of the form $x - x_0 = 0$\n",
    "- `openmc.YPlane` — A plane perpendicular to the y axis of the form $y - y_0 = 0$\n",
    "- `openmc.ZPlane` — A plane perpendicular to the z axis of the form $z - z_0 = 0$\n",
    "\n",
    "Quadrics:\n",
    "\n",
    "- `openmc.XCylinder` — An infinite cylinder whose length is parallel to the x-axis of the form $(y - y_0)^2 + (z - z_0)^2 = r^2$\n",
    "- `openmc.YCylinder` — An infinite cylinder whose length is parallel to the x-axis of the form $(x - x_0)^2 + (z - z_0)^2 = r^2$\n",
    "- `openmc.ZCylinder` — An infinite cylinder whose length is parallel to the x-axis of the form $(x - x_0)^2 + (y - y_0)^2 = r^2$\n",
    "- `openmc.Sphere` — A sphere of the form $(x - x_0)^2 + (y - y_0)^2 + (z - z_0)^2 = r^2$\n",
    "- `openmc.XCone` — A cone parallel to the x-axis of the form $(y - y_0)^2 + (z - z_0)^2 = r^2 (x - x_0)^2$\n",
    "- `openmc.YCone` — A cone parallel to the y-axis of the form $(x - x_0)^2 + (z - z_0)^2 = r^2 (y - y_0)^2$\n",
    "- `openmc.ZCone` — A cone parallel to the z-axis of the form $(x - x_0)^2 + (y - y_0)^2 = r^2 (z - z_0)^2$\n",
    "- `openmc.Quadric` — A generic quadric surface\n",
    "\n",
    "Torii:\n",
    "\n",
    "- `openmc.XTorus` — A torus of the form $(x - x_0)^2/B^2 + (\\sqrt{(y - y_0)^2 + (z - z_0)^2} - A)^2/C^2 - 1 = 0$\n",
    "- `openmc.YTorus` — A torus of the form $(y - y_0)^2/B^2 + (\\sqrt{(x - x_0)^2 + (z - z_0)^2} - A)^2/C^2 - 1 = 0$\n",
    "- `openmc.ZTorus` — A torus of the form $(z - z_0)^2/B^2 + (\\sqrt{(x - x_0)^2 + (y - y_0)^2} - A)^2/C^2 - 1 = 0$\n",
    "\n",
    "#### Half-Spaces\n",
    "\n",
    "<img src=\"csg_half.png\" alt=\"drawing\" width=\"600\"/>\n",
    "\n",
    "A surface *half-space* is the region whose points satisfy a positive or negative inequality of the surface equation. For example, for a sphere of radius one centered at the origin, the surface equation is $f(x,y,z) = x^2 + y^2 + z^2 - 1 = 0$. Thus, we say that the negative half-space of the sphere is defined as the collection of points satisfying $f(x,y,z) < 0$, which one can reason is the inside of the sphere. Conversely, the positive half-space of the sphere would correspond to all points outside of the sphere.\n",
    "\n",
    "#### Regions\n",
    "A region is then a combination of (or just one) half-spaces.\n",
    "\n",
    "#### Fills\n",
    "Finally, a cell is complete once we have defined what is _filling_ the cell, which may be one of:\n",
    "\n",
    "- material\n",
    "- nothing (`None`), or vacuum/void\n",
    "- universe\n",
    "- lattice"
   ]
  },
  {
   "cell_type": "code",
   "execution_count": 28,
   "metadata": {},
   "outputs": [],
   "source": [
    "sphere = openmc.Sphere(r=1.0)"
   ]
  },
  {
   "cell_type": "markdown",
   "metadata": {},
   "source": [
    "Note that by default the sphere is centered at the origin so we didn't have to supply `x0`, `y0`, or `z0` arguments. Strictly speaking, we could have omitted `r` as well since it defaults to one. To get the negative or positive half-space, we simply need to apply the `-` or `+` unary operators, respectively."
   ]
  },
  {
   "cell_type": "code",
   "execution_count": 29,
   "metadata": {},
   "outputs": [
    {
     "data": {
      "text/plain": [
       "openmc.surface.Halfspace"
      ]
     },
     "execution_count": 29,
     "metadata": {},
     "output_type": "execute_result"
    }
   ],
   "source": [
    "inside_sphere = -sphere\n",
    "outside_sphere = +sphere\n",
    "type(inside_sphere)"
   ]
  },
  {
   "cell_type": "markdown",
   "metadata": {},
   "source": [
    "Now let's see if `inside_sphere` actually contains points inside the sphere:"
   ]
  },
  {
   "cell_type": "code",
   "execution_count": 30,
   "metadata": {},
   "outputs": [
    {
     "name": "stdout",
     "output_type": "stream",
     "text": [
      "True False\n",
      "False True\n"
     ]
    }
   ],
   "source": [
    "print((0,0,0) in inside_sphere, (0,0,2) in inside_sphere)\n",
    "print((0,0,0) in outside_sphere, (0,0,2) in outside_sphere)"
   ]
  },
  {
   "cell_type": "markdown",
   "metadata": {},
   "source": [
    "Everything works as expected! Now that we understand how to create half-spaces, we can create more complex volumes by combining half-spaces using Boolean operators: `&` (intersection), `|` (union), and `~` (complement):\n",
    "\n",
    "- `&`: logical AND\n",
    "- `|`: logical OR\n",
    "- `~`: logical NOT\n",
    "\n",
    "For example, let's say we want to define a region that is the top part of the sphere (all points inside the sphere that have $z > 0$."
   ]
  },
  {
   "cell_type": "code",
   "execution_count": 31,
   "metadata": {},
   "outputs": [],
   "source": [
    "z_plane = openmc.ZPlane(0)\n",
    "northern_hemisphere = -sphere & +z_plane"
   ]
  },
  {
   "cell_type": "code",
   "execution_count": 32,
   "metadata": {},
   "outputs": [],
   "source": [
    "cell = openmc.Cell()\n",
    "cell.region = northern_hemisphere\n",
    "\n",
    "# or...\n",
    "cell = openmc.Cell(region=northern_hemisphere)\n",
    "\n",
    "cell.fill = water"
   ]
  },
  {
   "cell_type": "markdown",
   "metadata": {},
   "source": [
    "### Universes and in-line plotting"
   ]
  },
  {
   "cell_type": "markdown",
   "metadata": {},
   "source": [
    "A collection of cells is known as a universe and can be used as a repeatable unit when creating a model. Although we don't need it yet, the benefit of creating a universe is that we can visualize our geometry while we're creating it."
   ]
  },
  {
   "cell_type": "code",
   "execution_count": 33,
   "metadata": {},
   "outputs": [],
   "source": [
    "universe = openmc.Universe()\n",
    "universe.add_cell(cell)\n",
    "\n",
    "# this also works\n",
    "universe = openmc.Universe(cells=[cell])"
   ]
  },
  {
   "cell_type": "markdown",
   "metadata": {},
   "source": [
    "The `Universe` object has a `plot` method that will display our the universe as current constructed:"
   ]
  },
  {
   "cell_type": "code",
   "execution_count": 34,
   "metadata": {},
   "outputs": [
    {
     "data": {
      "text/plain": [
       "<Axes: xlabel='x [cm]', ylabel='y [cm]'>"
      ]
     },
     "execution_count": 34,
     "metadata": {},
     "output_type": "execute_result"
    },
    {
     "data": {
      "image/png": "[encoded data removed]",
      "text/plain": [
       "<Figure size 258.065x259.74 with 1 Axes>"
      ]
     },
     "metadata": {},
     "output_type": "display_data"
    }
   ],
   "source": [
    "universe.plot(width=(2.0, 2.0))"
   ]
  },
  {
   "cell_type": "markdown",
   "metadata": {},
   "source": [
    "By default, the plot will appear in the $x$-$y$ plane. We can change that with the `basis` argument."
   ]
  },
  {
   "cell_type": "code",
   "execution_count": 35,
   "metadata": {},
   "outputs": [
    {
     "data": {
      "text/plain": [
       "<Axes: xlabel='x [cm]', ylabel='z [cm]'>"
      ]
     },
     "execution_count": 35,
     "metadata": {},
     "output_type": "execute_result"
    },
    {
     "data": {
      "image/png": "[encoded data removed]",
      "text/plain": [
       "<Figure size 258.065x259.74 with 1 Axes>"
      ]
     },
     "metadata": {},
     "output_type": "display_data"
    }
   ],
   "source": [
    "universe.plot(width=(2.0, 2.0), basis='xz')"
   ]
  },
  {
   "cell_type": "markdown",
   "metadata": {},
   "source": [
    "If we have particular fondness for, say, fuchsia, we can tell the `plot()` method to make our cell that color."
   ]
  },
  {
   "cell_type": "code",
   "execution_count": 36,
   "metadata": {},
   "outputs": [
    {
     "data": {
      "text/plain": [
       "<Axes: xlabel='x [cm]', ylabel='z [cm]'>"
      ]
     },
     "execution_count": 36,
     "metadata": {},
     "output_type": "execute_result"
    },
    {
     "data": {
      "image/png": "[encoded data removed]",
      "text/plain": [
       "<Figure size 258.065x259.74 with 1 Axes>"
      ]
     },
     "metadata": {},
     "output_type": "display_data"
    }
   ],
   "source": [
    "universe.plot(width=(2.0, 2.0), basis='xz',\n",
    "              colors={cell: 'fuchsia'})"
   ]
  },
  {
   "cell_type": "markdown",
   "metadata": {},
   "source": [
    "### Boundary Conditions\n",
    "\n",
    "To specify boundary conditions, you simply need to set the `Surface.boundary_type` to one of:\n",
    "\n",
    "- `transmission` (default)\n",
    "- `vacuum`\n",
    "- `reflective`\n",
    "- `periodic` (either rotational or translational)\n",
    "- `white` (isotropic angular flux)\n",
    "\n",
    "<img src=\"mc_bcs.png\" alt=\"drawing\" width=\"600\"/>"
   ]
  },
  {
   "cell_type": "code",
   "execution_count": 52,
   "metadata": {},
   "outputs": [],
   "source": [
    "northern_hemisphere.boundary_type = 'vacuum'"
   ]
  },
  {
   "cell_type": "markdown",
   "metadata": {},
   "source": [
    "### Pin cell geometry\n",
    "\n",
    "We now have enough knowledge to create our pin-cell. We need three surfaces to define the fuel and clad:\n",
    "\n",
    "1. The outer surface of the fuel -- a cylinder parallel to the z axis\n",
    "2. The inner surface of the clad -- same as above\n",
    "3. The outer surface of the clad -- same as above\n",
    "\n",
    "These three surfaces will all be instances of `openmc.ZCylinder`, each with a different radius according to the specification."
   ]
  },
  {
   "cell_type": "code",
   "execution_count": 38,
   "metadata": {},
   "outputs": [],
   "source": [
    "fuel_outer_radius = openmc.ZCylinder(r=0.46955)\n",
    "clad_inner_radius = openmc.ZCylinder(r=0.47910)\n",
    "clad_outer_radius = openmc.ZCylinder(r=0.54640)"
   ]
  },
  {
   "cell_type": "markdown",
   "metadata": {},
   "source": [
    "With the surfaces created, we can now take advantage of the built-in operators on surfaces to create regions for the fuel, the gap, and the clad:"
   ]
  },
  {
   "cell_type": "code",
   "execution_count": 39,
   "metadata": {},
   "outputs": [],
   "source": [
    "fuel_region = -fuel_outer_radius\n",
    "gap_region = +fuel_outer_radius & -clad_inner_radius\n",
    "clad_region = +clad_inner_radius & -clad_outer_radius"
   ]
  },
  {
   "cell_type": "markdown",
   "metadata": {},
   "source": [
    "Now we can create corresponding cells that assign materials to these regions. As with materials, cells have unique IDs that are assigned either manually or automatically. Note that the gap cell doesn't have any material assigned (it is void, a.k.a. vacuum, by default)."
   ]
  },
  {
   "cell_type": "code",
   "execution_count": 42,
   "metadata": {},
   "outputs": [],
   "source": [
    "fuel = openmc.Cell()\n",
    "fuel.fill = uo2\n",
    "fuel.region = fuel_region\n",
    "\n",
    "gap = openmc.Cell()\n",
    "gap.region = gap_region\n",
    "\n",
    "clad = openmc.Cell()\n",
    "clad.fill = zirconium\n",
    "clad.region = clad_region"
   ]
  },
  {
   "cell_type": "markdown",
   "metadata": {},
   "source": [
    "Finally, we need to handle the coolant outside of our fuel pin. To do this, we create x- and y-planes that bound the geometry."
   ]
  },
  {
   "cell_type": "code",
   "execution_count": 43,
   "metadata": {},
   "outputs": [],
   "source": [
    "pitch = 1.44270\n",
    "left = openmc.XPlane(-pitch/2, boundary_type='reflective')\n",
    "right = openmc.XPlane(pitch/2, boundary_type='reflective')\n",
    "bottom = openmc.YPlane(-pitch/2, boundary_type='reflective')\n",
    "top = openmc.YPlane(pitch/2, boundary_type='reflective')"
   ]
  },
  {
   "cell_type": "markdown",
   "metadata": {},
   "source": [
    "The water region is going to be everything outside of the clad outer radius and within the box formed as the intersection of four half-spaces."
   ]
  },
  {
   "cell_type": "code",
   "execution_count": 44,
   "metadata": {},
   "outputs": [],
   "source": [
    "water_region = +left & -right & +bottom & -top & +clad_outer_radius\n",
    "\n",
    "moderator = openmc.Cell()\n",
    "moderator.fill = water\n",
    "moderator.region = water_region"
   ]
  },
  {
   "cell_type": "markdown",
   "metadata": {},
   "source": [
    "The final step is to assign the cells we created to a universe and tell OpenMC that this universe is the \"root\" universe in our geometry."
   ]
  },
  {
   "cell_type": "code",
   "execution_count": 45,
   "metadata": {},
   "outputs": [],
   "source": [
    "root_universe = openmc.Universe(cells=(fuel, gap, clad, moderator))\n",
    "model.geometry = openmc.Geometry(root_universe)"
   ]
  },
  {
   "cell_type": "code",
   "execution_count": 48,
   "metadata": {},
   "outputs": [
    {
     "data": {
      "text/plain": [
       "<Axes: xlabel='x [cm]', ylabel='y [cm]'>"
      ]
     },
     "execution_count": 48,
     "metadata": {},
     "output_type": "execute_result"
    },
    {
     "data": {
      "image/png": "[encoded data removed]",
      "text/plain": [
       "<Figure size 407.742x410.39 with 1 Axes>"
      ]
     },
     "metadata": {},
     "output_type": "display_data"
    }
   ],
   "source": [
    "root_universe.plot((0, 0, 0), width=(pitch, pitch), pixels=100000)"
   ]
  },
  {
   "cell_type": "markdown",
   "metadata": {},
   "source": [
    "## Starting source and settings\n",
    "\n",
    "The Python API has a module `openmc.stats` with various univariate and multivariate probability distributions. We can use these distributions to create a starting source using the `openmc.Source` object. One can independently specify the spatial distribution (`space`), the angular distribution (`angle`), the energy distribution (`energy`), and the time distribution (`time`). For this example, we'll only specify the spatial distribution as a single point."
   ]
  },
  {
   "cell_type": "code",
   "execution_count": 54,
   "metadata": {},
   "outputs": [],
   "source": [
    "# Create a point source\n",
    "point = openmc.stats.Point((0, 0, 0))\n",
    "source = openmc.IndependentSource(space=point)"
   ]
  },
  {
   "cell_type": "code",
   "execution_count": 55,
   "metadata": {},
   "outputs": [],
   "source": [
    "model.settings.source = source\n",
    "model.settings.batches = 100\n",
    "model.settings.inactive = 10\n",
    "model.settings.particles = 1000"
   ]
  },
  {
   "cell_type": "markdown",
   "metadata": {},
   "source": [
    "## Running OpenMC\n",
    "\n",
    "Running OpenMC from Python can be done using the `model.run()` function. This function allows you to set the number of MPI processes and OpenMP threads, if need be."
   ]
  },
  {
   "cell_type": "code",
   "execution_count": 57,
   "metadata": {
    "scrolled": true
   },
   "outputs": [
    {
     "name": "stdout",
     "output_type": "stream",
     "text": [
      "                                %%%%%%%%%%%%%%%\n",
      "                           %%%%%%%%%%%%%%%%%%%%%%%%\n",
      "                        %%%%%%%%%%%%%%%%%%%%%%%%%%%%%%\n",
      "                      %%%%%%%%%%%%%%%%%%%%%%%%%%%%%%%%%%\n",
      "                    %%%%%%%%%%%%%%%%%%%%%%%%%%%%%%%%%%%%%%\n",
      "                   %%%%%%%%%%%%%%%%%%%%%%%%%%%%%%%%%%%%%%%%\n",
      "                                    %%%%%%%%%%%%%%%%%%%%%%%%\n",
      "                                     %%%%%%%%%%%%%%%%%%%%%%%%\n",
      "                 ###############      %%%%%%%%%%%%%%%%%%%%%%%%\n",
      "                ##################     %%%%%%%%%%%%%%%%%%%%%%%\n",
      "                ###################     %%%%%%%%%%%%%%%%%%%%%%%\n",
      "                ####################     %%%%%%%%%%%%%%%%%%%%%%\n",
      "                #####################     %%%%%%%%%%%%%%%%%%%%%\n",
      "                ######################     %%%%%%%%%%%%%%%%%%%%\n",
      "                #######################     %%%%%%%%%%%%%%%%%%\n",
      "                 #######################     %%%%%%%%%%%%%%%%%\n",
      "                 ######################     %%%%%%%%%%%%%%%%%\n",
      "                  ####################     %%%%%%%%%%%%%%%%%\n",
      "                    #################     %%%%%%%%%%%%%%%%%\n",
      "                     ###############     %%%%%%%%%%%%%%%%\n",
      "                       ############     %%%%%%%%%%%%%%%\n",
      "                          ########     %%%%%%%%%%%%%%\n",
      "                                      %%%%%%%%%%%\n",
      "\n",
      "                 | The OpenMC Monte Carlo Code\n",
      "       Copyright | 2011-2024 MIT, UChicago Argonne LLC, and contributors\n",
      "         License | https://docs.openmc.org/en/latest/license.html\n",
      "         Version | 0.14.1-dev\n",
      "        Git SHA1 | 14ce3cec4b388ae8b7ec5b28db57dbcbff06f147\n",
      "       Date/Time | 2024-03-27 19:41:41\n",
      "   MPI Processes | 1\n",
      "  OpenMP Threads | 8\n",
      "\n",
      " Reading model XML file 'model.xml' ...\n",
      " WARNING: Other XML file input(s) are present. These files may be ignored in\n",
      "          favor of the model.xml file.\n",
      " Reading cross sections XML file...\n",
      " Reading Zr90 from\n",
      " /Users/anovak/projects/cross_sections/endfb-vii.1-hdf5/neutron/Zr90.h5\n",
      " Reading Zr91 from\n",
      " /Users/anovak/projects/cross_sections/endfb-vii.1-hdf5/neutron/Zr91.h5\n",
      " Reading Zr92 from\n",
      " /Users/anovak/projects/cross_sections/endfb-vii.1-hdf5/neutron/Zr92.h5\n",
      " Reading Zr94 from\n",
      " /Users/anovak/projects/cross_sections/endfb-vii.1-hdf5/neutron/Zr94.h5\n",
      " Reading Zr96 from\n",
      " /Users/anovak/projects/cross_sections/endfb-vii.1-hdf5/neutron/Zr96.h5\n",
      " Reading U234 from\n",
      " /Users/anovak/projects/cross_sections/endfb-vii.1-hdf5/neutron/U234.h5\n",
      " Reading U235 from\n",
      " /Users/anovak/projects/cross_sections/endfb-vii.1-hdf5/neutron/U235.h5\n",
      " Reading U238 from\n",
      " /Users/anovak/projects/cross_sections/endfb-vii.1-hdf5/neutron/U238.h5\n",
      " Reading U236 from\n",
      " /Users/anovak/projects/cross_sections/endfb-vii.1-hdf5/neutron/U236.h5\n",
      " Reading O16 from\n",
      " /Users/anovak/projects/cross_sections/endfb-vii.1-hdf5/neutron/O16.h5\n",
      " Reading H1 from\n",
      " /Users/anovak/projects/cross_sections/endfb-vii.1-hdf5/neutron/H1.h5\n",
      " Reading H2 from\n",
      " /Users/anovak/projects/cross_sections/endfb-vii.1-hdf5/neutron/H2.h5\n",
      " Reading O17 from\n",
      " /Users/anovak/projects/cross_sections/endfb-vii.1-hdf5/neutron/O17.h5\n",
      " Reading Pu239 from\n",
      " /Users/anovak/projects/cross_sections/endfb-vii.1-hdf5/neutron/Pu239.h5\n",
      " Reading Si28 from\n",
      " /Users/anovak/projects/cross_sections/endfb-vii.1-hdf5/neutron/Si28.h5\n",
      " Reading c_H_in_H2O from\n",
      " /Users/anovak/projects/cross_sections/endfb-vii.1-hdf5/neutron/c_H_in_H2O.h5\n",
      " Minimum neutron data temperature: 250 K\n",
      " Maximum neutron data temperature: 2500 K\n",
      " Preparing distributed cell instances...\n",
      " Writing summary.h5 file...\n",
      " Maximum neutron transport energy: 20000000 eV for Zr90\n",
      " Initializing source particles...\n",
      "\n",
      " ====================>     K EIGENVALUE SIMULATION     <====================\n",
      "\n",
      "  Bat./Gen.      k            Average k\n",
      "  =========   ========   ====================\n",
      "        1/1    1.50315\n",
      "        2/1    1.44086\n",
      "        3/1    1.46540\n",
      "        4/1    1.37107\n",
      "        5/1    1.33015\n",
      "        6/1    1.48464\n",
      "        7/1    1.47998\n",
      "        8/1    1.28684\n",
      "        9/1    1.45556\n",
      "       10/1    1.40944\n",
      "       11/1    1.39122\n",
      "       12/1    1.32307    1.35714 +/- 0.03407\n",
      "       13/1    1.52588    1.41339 +/- 0.05959\n",
      "       14/1    1.46026    1.42511 +/- 0.04373\n",
      "       15/1    1.41125    1.42233 +/- 0.03399\n",
      "       16/1    1.45798    1.42827 +/- 0.02838\n",
      "       17/1    1.46100    1.43295 +/- 0.02444\n",
      "       18/1    1.42515    1.43197 +/- 0.02119\n",
      "       19/1    1.54914    1.44499 +/- 0.02277\n",
      "       20/1    1.43623    1.44412 +/- 0.02039\n",
      "       21/1    1.40115    1.44021 +/- 0.01885\n",
      "       22/1    1.43731    1.43997 +/- 0.01721\n",
      "       23/1    1.41573    1.43811 +/- 0.01594\n",
      "       24/1    1.46697    1.44017 +/- 0.01490\n",
      "       25/1    1.45526    1.44117 +/- 0.01391\n",
      "       26/1    1.33933    1.43481 +/- 0.01448\n",
      "       27/1    1.42147    1.43402 +/- 0.01363\n",
      "       28/1    1.36027    1.42993 +/- 0.01349\n",
      "       29/1    1.46546    1.43180 +/- 0.01289\n",
      "       30/1    1.45108    1.43276 +/- 0.01227\n",
      "       31/1    1.43818    1.43302 +/- 0.01167\n",
      "       32/1    1.38295    1.43074 +/- 0.01136\n",
      "       33/1    1.42458    1.43048 +/- 0.01086\n",
      "       34/1    1.38767    1.42869 +/- 0.01055\n",
      "       35/1    1.46454    1.43013 +/- 0.01022\n",
      "       36/1    1.45980    1.43127 +/- 0.00988\n",
      "       37/1    1.38205    1.42944 +/- 0.00968\n",
      "       38/1    1.53672    1.43328 +/- 0.01009\n",
      "       39/1    1.47527    1.43472 +/- 0.00984\n",
      "       40/1    1.43555    1.43475 +/- 0.00951\n",
      "       41/1    1.44548    1.43510 +/- 0.00920\n",
      "       42/1    1.44951    1.43555 +/- 0.00892\n",
      "       43/1    1.41298    1.43486 +/- 0.00867\n",
      "       44/1    1.43609    1.43490 +/- 0.00841\n",
      "       45/1    1.41570    1.43435 +/- 0.00819\n",
      "       46/1    1.43178    1.43428 +/- 0.00796\n",
      "       47/1    1.45867    1.43494 +/- 0.00777\n",
      "       48/1    1.44260    1.43514 +/- 0.00756\n",
      "       49/1    1.42229    1.43481 +/- 0.00737\n",
      "       50/1    1.38440    1.43355 +/- 0.00730\n",
      "       51/1    1.38517    1.43237 +/- 0.00721\n",
      "       52/1    1.42319    1.43215 +/- 0.00704\n",
      "       53/1    1.43385    1.43219 +/- 0.00688\n",
      "       54/1    1.43942    1.43236 +/- 0.00672\n",
      "       55/1    1.45598    1.43288 +/- 0.00659\n",
      "       56/1    1.50437    1.43444 +/- 0.00663\n",
      "       57/1    1.52213    1.43630 +/- 0.00675\n",
      "       58/1    1.44465    1.43647 +/- 0.00661\n",
      "       59/1    1.37110    1.43514 +/- 0.00661\n",
      "       60/1    1.38867    1.43421 +/- 0.00654\n",
      "       61/1    1.45708    1.43466 +/- 0.00643\n",
      "       62/1    1.48771    1.43568 +/- 0.00639\n",
      "       63/1    1.32654    1.43362 +/- 0.00660\n",
      "       64/1    1.48374    1.43455 +/- 0.00654\n",
      "       65/1    1.36924    1.43336 +/- 0.00653\n",
      "       66/1    1.43809    1.43345 +/- 0.00641\n",
      "       67/1    1.45191    1.43377 +/- 0.00631\n",
      "       68/1    1.40404    1.43326 +/- 0.00622\n",
      "       69/1    1.36879    1.43216 +/- 0.00621\n",
      "       70/1    1.45560    1.43256 +/- 0.00612\n",
      "       71/1    1.46420    1.43307 +/- 0.00604\n",
      "       72/1    1.31191    1.43112 +/- 0.00625\n",
      "       73/1    1.40955    1.43078 +/- 0.00616\n",
      "       74/1    1.39632    1.43024 +/- 0.00609\n",
      "       75/1    1.47145    1.43087 +/- 0.00603\n",
      "       76/1    1.43759    1.43097 +/- 0.00594\n",
      "       77/1    1.50169    1.43203 +/- 0.00594\n",
      "       78/1    1.36304    1.43102 +/- 0.00594\n",
      "       79/1    1.46648    1.43153 +/- 0.00588\n",
      "       80/1    1.46316    1.43198 +/- 0.00581\n",
      "       81/1    1.44568    1.43217 +/- 0.00573\n",
      "       82/1    1.47623    1.43279 +/- 0.00568\n",
      "       83/1    1.40690    1.43243 +/- 0.00562\n",
      "       84/1    1.43895    1.43252 +/- 0.00554\n",
      "       85/1    1.42947    1.43248 +/- 0.00547\n",
      "       86/1    1.35926    1.43152 +/- 0.00548\n",
      "       87/1    1.41580    1.43131 +/- 0.00541\n",
      "       88/1    1.40517    1.43098 +/- 0.00535\n",
      "       89/1    1.40848    1.43069 +/- 0.00529\n",
      "       90/1    1.50568    1.43163 +/- 0.00531\n",
      "       91/1    1.49946    1.43247 +/- 0.00531\n",
      "       92/1    1.41449    1.43225 +/- 0.00525\n",
      "       93/1    1.50841    1.43317 +/- 0.00527\n",
      "       94/1    1.48296    1.43376 +/- 0.00524\n",
      "       95/1    1.43579    1.43378 +/- 0.00517\n",
      "       96/1    1.37100    1.43305 +/- 0.00517\n",
      "       97/1    1.53292    1.43420 +/- 0.00523\n",
      "       98/1    1.47074    1.43461 +/- 0.00519\n",
      "       99/1    1.38857    1.43410 +/- 0.00516\n",
      "      100/1    1.35518    1.43322 +/- 0.00517\n",
      " Creating state point statepoint.100.h5...\n",
      "\n",
      " =======================>     TIMING STATISTICS     <=======================\n",
      "\n",
      " Total time for initialization     = 2.1104e+00 seconds\n",
      "   Reading cross sections          = 2.0588e+00 seconds\n",
      " Total time in simulation          = 1.4335e+00 seconds\n",
      "   Time in transport only          = 1.4178e+00 seconds\n",
      "   Time in inactive batches        = 1.3695e-01 seconds\n",
      "   Time in active batches          = 1.2965e+00 seconds\n",
      "   Time synchronizing fission bank = 6.2387e-03 seconds\n",
      "     Sampling source sites         = 4.8576e-03 seconds\n",
      "     SEND/RECV source sites        = 5.5880e-04 seconds\n",
      "   Time accumulating tallies       = 3.8430e-05 seconds\n",
      "   Time writing statepoints        = 5.5325e-03 seconds\n",
      " Total time for finalization       = 2.9380e-06 seconds\n",
      " Total time elapsed                = 3.5537e+00 seconds\n",
      " Calculation Rate (inactive)       = 73016.9 particles/second\n",
      " Calculation Rate (active)         = 69415.4 particles/second\n",
      "\n",
      " ============================>     RESULTS     <============================\n",
      "\n",
      " k-effective (Collision)     = 1.42977 +/- 0.00417\n",
      " k-effective (Track-length)  = 1.43322 +/- 0.00517\n",
      " k-effective (Absorption)    = 1.42387 +/- 0.00288\n",
      " Combined k-effective        = 1.42566 +/- 0.00277\n",
      " Leakage Fraction            = 0.00000 +/- 0.00000\n",
      "\n"
     ]
    }
   ],
   "source": [
    "statepoint = model.run()"
   ]
  },
  {
   "cell_type": "markdown",
   "metadata": {},
   "source": [
    "## Geometry plotting\n",
    "\n",
    "We saw before that we could call the `Universe.plot()` method to show a universe while we were creating our geometry. There is also a built-in plotter in the codebase that is much faster than the Python plotter and has more options. The interface looks somewhat similar to the `Universe.plot()` method. Instead though, we create `Plot` instances, assign them to a `Plots` collection, export it to XML, and then run OpenMC in geometry plotting mode. As an example, let's specify that we want the plot to be colored by material (rather than by cell) and we assign yellow to fuel and blue to water."
   ]
  },
  {
   "cell_type": "code",
   "execution_count": 58,
   "metadata": {},
   "outputs": [],
   "source": [
    "plot = openmc.Plot()\n",
    "plot.filename = 'pinplot'\n",
    "plot.width = (pitch, pitch)\n",
    "plot.pixels = (200, 200)\n",
    "plot.color_by = 'material'\n",
    "plot.colors = {uo2: 'yellow', water: 'blue'}"
   ]
  },
  {
   "cell_type": "markdown",
   "metadata": {},
   "source": [
    "With our plot created, we need to add it to a `Plots` collection which can be exported to XML."
   ]
  },
  {
   "cell_type": "code",
   "execution_count": 59,
   "metadata": {},
   "outputs": [],
   "source": [
    "model.plots = openmc.Plots([plot])"
   ]
  },
  {
   "cell_type": "markdown",
   "metadata": {},
   "source": [
    "Now we can run OpenMC in plotting mode by calling the `plot_geometry()` function. Under the hood this is calling `openmc --plot`."
   ]
  },
  {
   "cell_type": "code",
   "execution_count": 60,
   "metadata": {},
   "outputs": [
    {
     "name": "stdout",
     "output_type": "stream",
     "text": [
      "                                %%%%%%%%%%%%%%%\n",
      "                           %%%%%%%%%%%%%%%%%%%%%%%%\n",
      "                        %%%%%%%%%%%%%%%%%%%%%%%%%%%%%%\n",
      "                      %%%%%%%%%%%%%%%%%%%%%%%%%%%%%%%%%%\n",
      "                    %%%%%%%%%%%%%%%%%%%%%%%%%%%%%%%%%%%%%%\n",
      "                   %%%%%%%%%%%%%%%%%%%%%%%%%%%%%%%%%%%%%%%%\n",
      "                                    %%%%%%%%%%%%%%%%%%%%%%%%\n",
      "                                     %%%%%%%%%%%%%%%%%%%%%%%%\n",
      "                 ###############      %%%%%%%%%%%%%%%%%%%%%%%%\n",
      "                ##################     %%%%%%%%%%%%%%%%%%%%%%%\n",
      "                ###################     %%%%%%%%%%%%%%%%%%%%%%%\n",
      "                ####################     %%%%%%%%%%%%%%%%%%%%%%\n",
      "                #####################     %%%%%%%%%%%%%%%%%%%%%\n",
      "                ######################     %%%%%%%%%%%%%%%%%%%%\n",
      "                #######################     %%%%%%%%%%%%%%%%%%\n",
      "                 #######################     %%%%%%%%%%%%%%%%%\n",
      "                 ######################     %%%%%%%%%%%%%%%%%\n",
      "                  ####################     %%%%%%%%%%%%%%%%%\n",
      "                    #################     %%%%%%%%%%%%%%%%%\n",
      "                     ###############     %%%%%%%%%%%%%%%%\n",
      "                       ############     %%%%%%%%%%%%%%%\n",
      "                          ########     %%%%%%%%%%%%%%\n",
      "                                      %%%%%%%%%%%\n",
      "\n",
      "                 | The OpenMC Monte Carlo Code\n",
      "       Copyright | 2011-2024 MIT, UChicago Argonne LLC, and contributors\n",
      "         License | https://docs.openmc.org/en/latest/license.html\n",
      "         Version | 0.14.1-dev\n",
      "        Git SHA1 | 14ce3cec4b388ae8b7ec5b28db57dbcbff06f147\n",
      "       Date/Time | 2024-03-27 19:42:15\n",
      "   MPI Processes | 1\n",
      "  OpenMP Threads | 8\n",
      "\n",
      " Reading model XML file 'model.xml' ...\n",
      " WARNING: Other XML file input(s) are present. These files may be ignored in\n",
      "          favor of the model.xml file.\n",
      " Preparing distributed cell instances...\n",
      "\n",
      " =======================>     PLOTTING SUMMARY     <========================\n",
      "\n"
     ]
    }
   ],
   "source": [
    "openmc.plot_geometry()"
   ]
  },
  {
   "cell_type": "markdown",
   "metadata": {},
   "source": [
    "Now, we can use functionality from IPython to display the `.png` image inline in our notebook:"
   ]
  },
  {
   "cell_type": "code",
   "execution_count": 62,
   "metadata": {},
   "outputs": [
    {
     "name": "stdout",
     "output_type": "stream",
     "text": [
      "CMakeLists.txt         \u001b[1m\u001b[36mcmake\u001b[m\u001b[m                  pyproject.toml\r\n",
      "CODEOWNERS             csg_half.png           pytest.ini\r\n",
      "CODE_OF_CONDUCT.md     \u001b[1m\u001b[36mdocs\u001b[m\u001b[m                   \u001b[1m\u001b[36mscripts\u001b[m\u001b[m\r\n",
      "CONTRIBUTING.md        \u001b[1m\u001b[36mexamples\u001b[m\u001b[m               \u001b[31msetup.py\u001b[m\u001b[m\r\n",
      "Dockerfile             \u001b[1m\u001b[36minclude\u001b[m\u001b[m                \u001b[1m\u001b[36msrc\u001b[m\u001b[m\r\n",
      "LICENSE                \u001b[1m\u001b[36mman\u001b[m\u001b[m                    statepoint.100.h5\r\n",
      "MANIFEST.in            materials.xml          summary.h5\r\n",
      "Pincell-solution.ipynb mc_bcs.png             \u001b[1m\u001b[36mtests\u001b[m\u001b[m\r\n",
      "Pincell.ipynb          model.xml              \u001b[1m\u001b[36mtools\u001b[m\u001b[m\r\n",
      "README.md              \u001b[1m\u001b[36mopenmc\u001b[m\u001b[m                 \u001b[1m\u001b[36mvendor\u001b[m\u001b[m\r\n",
      "bcs.png                \u001b[1m\u001b[36mopenmc.egg-info\u001b[m\u001b[m\r\n",
      "\u001b[1m\u001b[36mbuild\u001b[m\u001b[m                  pincell.png\r\n"
     ]
    },
    {
     "ename": "FileNotFoundError",
     "evalue": "No such file or directory: 'pinplot.png'",
     "output_type": "error",
     "traceback": [
      "\u001b[0;31m---------------------------------------------------------------------------\u001b[0m",
      "\u001b[0;31mTypeError\u001b[0m                                 Traceback (most recent call last)",
      "File \u001b[0;32m/usr/local/opt/ipython/libexec/lib/python3.11/site-packages/IPython/core/display.py:1045\u001b[0m, in \u001b[0;36mImage._data_and_metadata\u001b[0;34m(self, always_both)\u001b[0m\n\u001b[1;32m   1044\u001b[0m \u001b[38;5;28;01mtry\u001b[39;00m:\n\u001b[0;32m-> 1045\u001b[0m     b64_data \u001b[38;5;241m=\u001b[39m \u001b[43mb2a_base64\u001b[49m\u001b[43m(\u001b[49m\u001b[38;5;28;43mself\u001b[39;49m\u001b[38;5;241;43m.\u001b[39;49m\u001b[43mdata\u001b[49m\u001b[43m,\u001b[49m\u001b[43m \u001b[49m\u001b[43mnewline\u001b[49m\u001b[38;5;241;43m=\u001b[39;49m\u001b[38;5;28;43;01mFalse\u001b[39;49;00m\u001b[43m)\u001b[49m\u001b[38;5;241m.\u001b[39mdecode(\u001b[38;5;124m\"\u001b[39m\u001b[38;5;124mascii\u001b[39m\u001b[38;5;124m\"\u001b[39m)\n\u001b[1;32m   1046\u001b[0m \u001b[38;5;28;01mexcept\u001b[39;00m \u001b[38;5;167;01mTypeError\u001b[39;00m \u001b[38;5;28;01mas\u001b[39;00m e:\n",
      "\u001b[0;31mTypeError\u001b[0m: a bytes-like object is required, not 'str'",
      "\nThe above exception was the direct cause of the following exception:\n",
      "\u001b[0;31mFileNotFoundError\u001b[0m                         Traceback (most recent call last)",
      "File \u001b[0;32m/usr/local/opt/ipython/libexec/lib/python3.11/site-packages/IPython/core/formatters.py:974\u001b[0m, in \u001b[0;36mMimeBundleFormatter.__call__\u001b[0;34m(self, obj, include, exclude)\u001b[0m\n\u001b[1;32m    971\u001b[0m     method \u001b[38;5;241m=\u001b[39m get_real_method(obj, \u001b[38;5;28mself\u001b[39m\u001b[38;5;241m.\u001b[39mprint_method)\n\u001b[1;32m    973\u001b[0m     \u001b[38;5;28;01mif\u001b[39;00m method \u001b[38;5;129;01mis\u001b[39;00m \u001b[38;5;129;01mnot\u001b[39;00m \u001b[38;5;28;01mNone\u001b[39;00m:\n\u001b[0;32m--> 974\u001b[0m         \u001b[38;5;28;01mreturn\u001b[39;00m \u001b[43mmethod\u001b[49m\u001b[43m(\u001b[49m\u001b[43minclude\u001b[49m\u001b[38;5;241;43m=\u001b[39;49m\u001b[43minclude\u001b[49m\u001b[43m,\u001b[49m\u001b[43m \u001b[49m\u001b[43mexclude\u001b[49m\u001b[38;5;241;43m=\u001b[39;49m\u001b[43mexclude\u001b[49m\u001b[43m)\u001b[49m\n\u001b[1;32m    975\u001b[0m     \u001b[38;5;28;01mreturn\u001b[39;00m \u001b[38;5;28;01mNone\u001b[39;00m\n\u001b[1;32m    976\u001b[0m \u001b[38;5;28;01melse\u001b[39;00m:\n",
      "File \u001b[0;32m/usr/local/opt/ipython/libexec/lib/python3.11/site-packages/IPython/core/display.py:1035\u001b[0m, in \u001b[0;36mImage._repr_mimebundle_\u001b[0;34m(self, include, exclude)\u001b[0m\n\u001b[1;32m   1033\u001b[0m \u001b[38;5;28;01mif\u001b[39;00m \u001b[38;5;28mself\u001b[39m\u001b[38;5;241m.\u001b[39membed:\n\u001b[1;32m   1034\u001b[0m     mimetype \u001b[38;5;241m=\u001b[39m \u001b[38;5;28mself\u001b[39m\u001b[38;5;241m.\u001b[39m_mimetype\n\u001b[0;32m-> 1035\u001b[0m     data, metadata \u001b[38;5;241m=\u001b[39m \u001b[38;5;28;43mself\u001b[39;49m\u001b[38;5;241;43m.\u001b[39;49m\u001b[43m_data_and_metadata\u001b[49m\u001b[43m(\u001b[49m\u001b[43malways_both\u001b[49m\u001b[38;5;241;43m=\u001b[39;49m\u001b[38;5;28;43;01mTrue\u001b[39;49;00m\u001b[43m)\u001b[49m\n\u001b[1;32m   1036\u001b[0m     \u001b[38;5;28;01mif\u001b[39;00m metadata:\n\u001b[1;32m   1037\u001b[0m         metadata \u001b[38;5;241m=\u001b[39m {mimetype: metadata}\n",
      "File \u001b[0;32m/usr/local/opt/ipython/libexec/lib/python3.11/site-packages/IPython/core/display.py:1047\u001b[0m, in \u001b[0;36mImage._data_and_metadata\u001b[0;34m(self, always_both)\u001b[0m\n\u001b[1;32m   1045\u001b[0m     b64_data \u001b[38;5;241m=\u001b[39m b2a_base64(\u001b[38;5;28mself\u001b[39m\u001b[38;5;241m.\u001b[39mdata, newline\u001b[38;5;241m=\u001b[39m\u001b[38;5;28;01mFalse\u001b[39;00m)\u001b[38;5;241m.\u001b[39mdecode(\u001b[38;5;124m\"\u001b[39m\u001b[38;5;124mascii\u001b[39m\u001b[38;5;124m\"\u001b[39m)\n\u001b[1;32m   1046\u001b[0m \u001b[38;5;28;01mexcept\u001b[39;00m \u001b[38;5;167;01mTypeError\u001b[39;00m \u001b[38;5;28;01mas\u001b[39;00m e:\n\u001b[0;32m-> 1047\u001b[0m     \u001b[38;5;28;01mraise\u001b[39;00m \u001b[38;5;167;01mFileNotFoundError\u001b[39;00m(\n\u001b[1;32m   1048\u001b[0m         \u001b[38;5;124m\"\u001b[39m\u001b[38;5;124mNo such file or directory: \u001b[39m\u001b[38;5;124m'\u001b[39m\u001b[38;5;132;01m%s\u001b[39;00m\u001b[38;5;124m'\u001b[39m\u001b[38;5;124m\"\u001b[39m \u001b[38;5;241m%\u001b[39m (\u001b[38;5;28mself\u001b[39m\u001b[38;5;241m.\u001b[39mdata)) \u001b[38;5;28;01mfrom\u001b[39;00m \u001b[38;5;21;01me\u001b[39;00m\n\u001b[1;32m   1049\u001b[0m md \u001b[38;5;241m=\u001b[39m {}\n\u001b[1;32m   1050\u001b[0m \u001b[38;5;28;01mif\u001b[39;00m \u001b[38;5;28mself\u001b[39m\u001b[38;5;241m.\u001b[39mmetadata:\n",
      "\u001b[0;31mFileNotFoundError\u001b[0m: No such file or directory: 'pinplot.png'"
     ]
    },
    {
     "ename": "FileNotFoundError",
     "evalue": "No such file or directory: 'pinplot.png'",
     "output_type": "error",
     "traceback": [
      "\u001b[0;31m---------------------------------------------------------------------------\u001b[0m",
      "\u001b[0;31mTypeError\u001b[0m                                 Traceback (most recent call last)",
      "File \u001b[0;32m/usr/local/opt/ipython/libexec/lib/python3.11/site-packages/IPython/core/display.py:1045\u001b[0m, in \u001b[0;36mImage._data_and_metadata\u001b[0;34m(self, always_both)\u001b[0m\n\u001b[1;32m   1044\u001b[0m \u001b[38;5;28;01mtry\u001b[39;00m:\n\u001b[0;32m-> 1045\u001b[0m     b64_data \u001b[38;5;241m=\u001b[39m \u001b[43mb2a_base64\u001b[49m\u001b[43m(\u001b[49m\u001b[38;5;28;43mself\u001b[39;49m\u001b[38;5;241;43m.\u001b[39;49m\u001b[43mdata\u001b[49m\u001b[43m,\u001b[49m\u001b[43m \u001b[49m\u001b[43mnewline\u001b[49m\u001b[38;5;241;43m=\u001b[39;49m\u001b[38;5;28;43;01mFalse\u001b[39;49;00m\u001b[43m)\u001b[49m\u001b[38;5;241m.\u001b[39mdecode(\u001b[38;5;124m\"\u001b[39m\u001b[38;5;124mascii\u001b[39m\u001b[38;5;124m\"\u001b[39m)\n\u001b[1;32m   1046\u001b[0m \u001b[38;5;28;01mexcept\u001b[39;00m \u001b[38;5;167;01mTypeError\u001b[39;00m \u001b[38;5;28;01mas\u001b[39;00m e:\n",
      "\u001b[0;31mTypeError\u001b[0m: a bytes-like object is required, not 'str'",
      "\nThe above exception was the direct cause of the following exception:\n",
      "\u001b[0;31mFileNotFoundError\u001b[0m                         Traceback (most recent call last)",
      "File \u001b[0;32m/usr/local/opt/ipython/libexec/lib/python3.11/site-packages/IPython/core/formatters.py:344\u001b[0m, in \u001b[0;36mBaseFormatter.__call__\u001b[0;34m(self, obj)\u001b[0m\n\u001b[1;32m    342\u001b[0m     method \u001b[38;5;241m=\u001b[39m get_real_method(obj, \u001b[38;5;28mself\u001b[39m\u001b[38;5;241m.\u001b[39mprint_method)\n\u001b[1;32m    343\u001b[0m     \u001b[38;5;28;01mif\u001b[39;00m method \u001b[38;5;129;01mis\u001b[39;00m \u001b[38;5;129;01mnot\u001b[39;00m \u001b[38;5;28;01mNone\u001b[39;00m:\n\u001b[0;32m--> 344\u001b[0m         \u001b[38;5;28;01mreturn\u001b[39;00m \u001b[43mmethod\u001b[49m\u001b[43m(\u001b[49m\u001b[43m)\u001b[49m\n\u001b[1;32m    345\u001b[0m     \u001b[38;5;28;01mreturn\u001b[39;00m \u001b[38;5;28;01mNone\u001b[39;00m\n\u001b[1;32m    346\u001b[0m \u001b[38;5;28;01melse\u001b[39;00m:\n",
      "File \u001b[0;32m/usr/local/opt/ipython/libexec/lib/python3.11/site-packages/IPython/core/display.py:1067\u001b[0m, in \u001b[0;36mImage._repr_png_\u001b[0;34m(self)\u001b[0m\n\u001b[1;32m   1065\u001b[0m \u001b[38;5;28;01mdef\u001b[39;00m \u001b[38;5;21m_repr_png_\u001b[39m(\u001b[38;5;28mself\u001b[39m):\n\u001b[1;32m   1066\u001b[0m     \u001b[38;5;28;01mif\u001b[39;00m \u001b[38;5;28mself\u001b[39m\u001b[38;5;241m.\u001b[39membed \u001b[38;5;129;01mand\u001b[39;00m \u001b[38;5;28mself\u001b[39m\u001b[38;5;241m.\u001b[39mformat \u001b[38;5;241m==\u001b[39m \u001b[38;5;28mself\u001b[39m\u001b[38;5;241m.\u001b[39m_FMT_PNG:\n\u001b[0;32m-> 1067\u001b[0m         \u001b[38;5;28;01mreturn\u001b[39;00m \u001b[38;5;28;43mself\u001b[39;49m\u001b[38;5;241;43m.\u001b[39;49m\u001b[43m_data_and_metadata\u001b[49m\u001b[43m(\u001b[49m\u001b[43m)\u001b[49m\n",
      "File \u001b[0;32m/usr/local/opt/ipython/libexec/lib/python3.11/site-packages/IPython/core/display.py:1047\u001b[0m, in \u001b[0;36mImage._data_and_metadata\u001b[0;34m(self, always_both)\u001b[0m\n\u001b[1;32m   1045\u001b[0m     b64_data \u001b[38;5;241m=\u001b[39m b2a_base64(\u001b[38;5;28mself\u001b[39m\u001b[38;5;241m.\u001b[39mdata, newline\u001b[38;5;241m=\u001b[39m\u001b[38;5;28;01mFalse\u001b[39;00m)\u001b[38;5;241m.\u001b[39mdecode(\u001b[38;5;124m\"\u001b[39m\u001b[38;5;124mascii\u001b[39m\u001b[38;5;124m\"\u001b[39m)\n\u001b[1;32m   1046\u001b[0m \u001b[38;5;28;01mexcept\u001b[39;00m \u001b[38;5;167;01mTypeError\u001b[39;00m \u001b[38;5;28;01mas\u001b[39;00m e:\n\u001b[0;32m-> 1047\u001b[0m     \u001b[38;5;28;01mraise\u001b[39;00m \u001b[38;5;167;01mFileNotFoundError\u001b[39;00m(\n\u001b[1;32m   1048\u001b[0m         \u001b[38;5;124m\"\u001b[39m\u001b[38;5;124mNo such file or directory: \u001b[39m\u001b[38;5;124m'\u001b[39m\u001b[38;5;132;01m%s\u001b[39;00m\u001b[38;5;124m'\u001b[39m\u001b[38;5;124m\"\u001b[39m \u001b[38;5;241m%\u001b[39m (\u001b[38;5;28mself\u001b[39m\u001b[38;5;241m.\u001b[39mdata)) \u001b[38;5;28;01mfrom\u001b[39;00m \u001b[38;5;21;01me\u001b[39;00m\n\u001b[1;32m   1049\u001b[0m md \u001b[38;5;241m=\u001b[39m {}\n\u001b[1;32m   1050\u001b[0m \u001b[38;5;28;01mif\u001b[39;00m \u001b[38;5;28mself\u001b[39m\u001b[38;5;241m.\u001b[39mmetadata:\n",
      "\u001b[0;31mFileNotFoundError\u001b[0m: No such file or directory: 'pinplot.png'"
     ]
    },
    {
     "data": {
      "text/plain": [
       "<IPython.core.display.Image object>"
      ]
     },
     "execution_count": 62,
     "metadata": {},
     "output_type": "execute_result"
    }
   ],
   "source": [
    "!ls\n",
    "\n",
    "from IPython.display import Image\n",
    "Image(\"pinplot.png\")"
   ]
  },
  {
   "cell_type": "markdown",
   "metadata": {},
   "source": [
    "OpenMC also provides us with a method on the `Plot` class that simplifies the workflow."
   ]
  },
  {
   "cell_type": "code",
   "execution_count": null,
   "metadata": {},
   "outputs": [],
   "source": [
    "plot.to_ipython_image()"
   ]
  },
  {
   "cell_type": "markdown",
   "metadata": {},
   "source": [
    "## `Model` class\n",
    "\n",
    "So far, we've seen that to create and simulate a model, we had to create an instance of `Geometry`, `Materials`, and `Settings` and call the `export_to_xml` method on each of them. OpenMC also provides a `Model` class that aggregates these classes together an provides a single `export_to_xml` method that will export all files."
   ]
  },
  {
   "cell_type": "code",
   "execution_count": null,
   "metadata": {},
   "outputs": [],
   "source": [
    "# Combine the three classes into a single model\n",
    "model = openmc.Model()\n",
    "model.geometry = geometry\n",
    "model.materials = materials\n",
    "model.settings = settings\n",
    "\n",
    "# Export all at once\n",
    "model.export_to_xml()"
   ]
  },
  {
   "cell_type": "markdown",
   "metadata": {},
   "source": [
    "The `Model` class also has `run` method that will both export XML files *and* run a simulation, returning the name of the last statepoint file that was written:"
   ]
  },
  {
   "cell_type": "code",
   "execution_count": null,
   "metadata": {},
   "outputs": [],
   "source": [
    "model.run()"
   ]
  },
  {
   "cell_type": "markdown",
   "metadata": {},
   "source": [
    "As we'll see later, the `Model` class has other useful features and is also needed for performing depletion/activation calculations."
   ]
  }
 ],
 "metadata": {
  "anaconda-cloud": {},
  "kernelspec": {
   "display_name": "Python 3 (ipykernel)",
   "language": "python",
   "name": "python3"
  },
  "language_info": {
   "codemirror_mode": {
    "name": "ipython",
    "version": 3
   },
   "file_extension": ".py",
   "mimetype": "text/x-python",
   "name": "python",
   "nbconvert_exporter": "python",
   "pygments_lexer": "ipython3",
   "version": "3.11.2"
  }
 },
 "nbformat": 4,
 "nbformat_minor": 4
}
